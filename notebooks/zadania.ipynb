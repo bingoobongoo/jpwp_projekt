{
 "cells": [
  {
   "cell_type": "markdown",
   "id": "48591090",
   "metadata": {},
   "source": [
    "# Analiza, inżynieria i wizualizacja danych z NumPy, Pandas i Matplotlib\n",
    "W tym notatnku znajdują się zadania części praktycznej prezentacji. Wykonanie zadań jest możliwe w Google Colab. Wszelkie potrzebne materiały można pobrać z repozytorium GitHub: https://github.com/bingoobongoo/jpwp_projekt. Odpowiedzi do niektórych zadań należy przesłać na platformę **UPEL**. Zadanie te będą specjalnie oznaczone, wystarczy skopiować wynik i przesłać w odpowiedniej zakładce. Rozwiązania zadań można znaleźć w pliku ***answers.py*** znajdującym się w folderze *data*."
   ]
  },
  {
   "cell_type": "markdown",
   "id": "ab3f6dd5",
   "metadata": {},
   "source": [
    "Linki do dokumentacji modułów:\n",
    "\n",
    "* **Pandas**: https://pandas.pydata.org/docs/\n",
    "* **NumPy**: https://numpy.org/doc/stable/reference/index.html#reference\n",
    "* **Matplotlib**: https://matplotlib.org/stable/api/index"
   ]
  },
  {
   "cell_type": "markdown",
   "id": "a72532df",
   "metadata": {},
   "source": [
    "## Skróty klawiszowe\n",
    "Do sprawnej pracy w Google Colab warto korzystać z ułatwiających życie skrótów klawiszowych, najważniejsze z nich wymieniono poniżej:\n",
    "\n",
    "* `Ctrl + M + B` - dodanie nowej komórki poniżej aktualnie zaznaczonej\n",
    "* `Ctrl + M + A` - dodanie nowej komórki powyżej aktualnie zaznaczonej\n",
    "* `Ctrl + M + D` - usunięcie aktualnie zaznaczonej komórki\n",
    "* `Ctrl + Enter` - uruchomienie aktualnie zaznaczonej komórki\n",
    "* `Shift + Enter` - uruchomienie aktualnie zaznaczonej komórki i przejście do kolejnej\n",
    "* `Ctrl + M + M` - zmienienie aktualnie zaznaczonej komórki na komórkę tekstową (markdown)\n",
    "* `Ctrl + M + Y` - zmienienie aktualnie zaznaczonej komórki na komórkę kodu\n",
    "* `Ctrl + M + .` - ponowne uruchomienie sesji Google Colab"
   ]
  },
  {
   "cell_type": "markdown",
   "id": "3ce35116",
   "metadata": {},
   "source": [
    "## Możliwe do napotkania problemy\n",
    "Google Colab oferuje darmowe korzystanie z chmury, czyli mocy obliczeniowej zdalnego serwera. Czasem z różnych powodów połączenie z serwerem może zostać przerwane. W takim wypadku należy ponownie nawiązać połączenie z serwerem poprzez przycisk **połącz** albo **połącz ponownie**. Niezbędne będzie także ponowne przesłanie plików z danymi i odpowiedziami znajdującymi się w folderze *data*. Zmiany wprowadzone w notebooku zostaną niezmienione, trzeba będzie jedynie uruchomić od początku wszystkie komórki aż do tej, gdzie ostatnio skończyliśmy."
   ]
  },
  {
   "cell_type": "markdown",
   "id": "b5583595",
   "metadata": {},
   "source": [
    "## Sprawdzanie poprawności odpowiedzi\n",
    "Pod każdym zadaniem (z wyjątkiem zadań na UPEL) będzie funkcja sprawdzająca poprawność odpowiedzi. Obiekt zawierający odpowiedź do zadania należy zapisać do odpowiednio nazwanej zmiennej, a następnie uruchomić komórkę sprawdzającą."
   ]
  },
  {
   "cell_type": "markdown",
   "id": "86ed1599",
   "metadata": {},
   "source": [
    "# Zadania praktyczne\n",
    "Zacznijmy od zaimportowania odpowienich bibliotek oraz danych. W przypadku błędu przy importowaniu plików **.csv** sprawdź, czy są one przesłane do odpowieniego folderu w Google Colab."
   ]
  },
  {
   "cell_type": "code",
   "execution_count": 3,
   "id": "ca94916d",
   "metadata": {},
   "outputs": [],
   "source": [
    "import numpy as np\n",
    "import pandas as pd\n",
    "import matplotlib.pyplot as plt\n",
    "# import answers as ans"
   ]
  },
  {
   "cell_type": "code",
   "execution_count": 4,
   "id": "577c25ef",
   "metadata": {},
   "outputs": [],
   "source": [
    "pokemon_df = pd.read_csv('../data/pokemon.csv')"
   ]
  }
 ],
 "metadata": {
  "kernelspec": {
   "display_name": "Python 3 (ipykernel)",
   "language": "python",
   "name": "python3"
  },
  "language_info": {
   "codemirror_mode": {
    "name": "ipython",
    "version": 3
   },
   "file_extension": ".py",
   "mimetype": "text/x-python",
   "name": "python",
   "nbconvert_exporter": "python",
   "pygments_lexer": "ipython3",
   "version": "3.10.13"
  }
 },
 "nbformat": 4,
 "nbformat_minor": 5
}
