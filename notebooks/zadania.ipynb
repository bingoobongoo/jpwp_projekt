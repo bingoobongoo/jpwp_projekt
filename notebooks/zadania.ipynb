{
 "cells": [
  {
   "cell_type": "markdown",
   "id": "48591090",
   "metadata": {},
   "source": [
    "# Analiza, inżynieria i wizualizacja danych z NumPy, Pandas i Matplotlib\n",
    "W tym notatnku znajdują się zadania części praktycznej prezentacji. Wykonanie zadań jest możliwe w Google Colab. Wszelkie potrzebne materiały można pobrać z repozytorium GitHub: https://github.com/bingoobongoo/jpwp_projekt. Odpowiedzi do niektórych zadań należy przesłać na platformę **UPEL**. Zadanie te będą specjalnie oznaczone, wystarczy skopiować wynik i przesłać w odpowiedniej zakładce. Rozwiązania zadań można znaleźć w pliku ***answers.py*** znajdującym się w folderze *notebooks*."
   ]
  },
  {
   "cell_type": "markdown",
   "id": "ab3f6dd5",
   "metadata": {},
   "source": [
    "Linki do dokumentacji modułów:\n",
    "\n",
    "* **Pandas**: https://pandas.pydata.org/docs/\n",
    "* **NumPy**: https://numpy.org/doc/stable/reference/index.html#reference\n",
    "* **Matplotlib**: https://matplotlib.org/stable/api/index"
   ]
  },
  {
   "cell_type": "markdown",
   "id": "a72532df",
   "metadata": {},
   "source": [
    "## Skróty klawiszowe\n",
    "Do sprawnej pracy w Google Colab warto korzystać z ułatwiających życie skrótów klawiszowych, najważniejsze z nich wymieniono poniżej:\n",
    "\n",
    "* `Ctrl + M + B` - dodanie nowej komórki poniżej aktualnie zaznaczonej\n",
    "* `Ctrl + M + A` - dodanie nowej komórki powyżej aktualnie zaznaczonej\n",
    "* `Ctrl + M + D` - usunięcie aktualnie zaznaczonej komórki\n",
    "* `Ctrl + Enter` - uruchomienie aktualnie zaznaczonej komórki\n",
    "* `Shift + Enter` - uruchomienie aktualnie zaznaczonej komórki i przejście do kolejnej\n",
    "* `Ctrl + M + M` - zmienienie aktualnie zaznaczonej komórki na komórkę tekstową (markdown)\n",
    "* `Ctrl + M + Y` - zmienienie aktualnie zaznaczonej komórki na komórkę kodu\n",
    "* `Ctrl + M + .` - ponowne uruchomienie sesji Google Colab"
   ]
  },
  {
   "cell_type": "markdown",
   "id": "3ce35116",
   "metadata": {},
   "source": [
    "## Możliwe do napotkania problemy\n",
    "Google Colab oferuje darmowe korzystanie z chmury, czyli mocy obliczeniowej zdalnego serwera. Czasem z różnych powodów połączenie z serwerem może zostać przerwane. W takim wypadku należy ponownie nawiązać połączenie z serwerem poprzez przycisk **połącz** albo **połącz ponownie**. Niezbędne będzie także ponowne przesłanie plików z danymi i odpowiedziami znajdującymi się w folderze *data*. Zmiany wprowadzone w notebooku zostaną niezmienione, trzeba będzie jedynie uruchomić od początku wszystkie komórki aż do tej, gdzie ostatnio skończyliśmy."
   ]
  },
  {
   "cell_type": "markdown",
   "id": "b5583595",
   "metadata": {},
   "source": [
    "## Sprawdzanie poprawności odpowiedzi\n",
    "Pod każdym zadaniem (z wyjątkiem zadań na UPEL) będzie funkcja sprawdzająca poprawność odpowiedzi. Obiekt zawierający odpowiedź do zadania należy zapisać do odpowiednio nazwanej zmiennej, a następnie uruchomić komórkę sprawdzającą. Opcjonalnie, jako drugi argument funkcji sprawdzającej można wpisać `True`, jeśli chcemy uzyskać podpowiedź do zadania."
   ]
  },
  {
   "cell_type": "markdown",
   "id": "86ed1599",
   "metadata": {},
   "source": [
    "# Zadania praktyczne\n",
    "Zacznijmy od zaimportowania odpowienich bibliotek oraz pierwszego zestawu danych. W przypadku błędu przy importowaniu plików **.csv** sprawdź, czy są one przesłane do odpowieniego folderu w Google Colab."
   ]
  },
  {
   "cell_type": "code",
   "execution_count": null,
   "id": "ca94916d",
   "metadata": {},
   "outputs": [],
   "source": [
    "import numpy as np\n",
    "import pandas as pd\n",
    "import matplotlib.pyplot as plt\n",
    "import answers as ans"
   ]
  },
  {
   "cell_type": "code",
   "execution_count": null,
   "id": "cef69a64",
   "metadata": {},
   "outputs": [],
   "source": [
    "pokemon_df = pd.read_csv('/content/pokemon.csv', index_col=0)\n",
    "tips_df = pd.read_csv('/content/tips.csv')"
   ]
  },
  {
   "cell_type": "markdown",
   "id": "b48774e9",
   "metadata": {},
   "source": [
    "### I.\n",
    "Zacznijmy od przyjrzenia się naszemu zestawowi danych. Wyświetl **10** pierwszych rzędów `pokemon_df` i zapisz je w zmiennej `first_ten`."
   ]
  },
  {
   "cell_type": "code",
   "execution_count": null,
   "id": "88fde3fd",
   "metadata": {},
   "outputs": [],
   "source": [
    "first_ten = ...\n",
    "first_ten"
   ]
  },
  {
   "cell_type": "code",
   "execution_count": null,
   "id": "42b17326",
   "metadata": {},
   "outputs": [],
   "source": [
    "ans.zad_1(first_ten)"
   ]
  },
  {
   "cell_type": "markdown",
   "id": "9c432841",
   "metadata": {},
   "source": [
    "### II.\n",
    "Teraz wyświetl **5** ostatnich rzędów `pokemon_df` i zapisz je w zmiennej `last_five`."
   ]
  },
  {
   "cell_type": "code",
   "execution_count": null,
   "id": "895eb90f",
   "metadata": {},
   "outputs": [],
   "source": [
    "last_five = ...\n",
    "last_five"
   ]
  },
  {
   "cell_type": "code",
   "execution_count": null,
   "id": "654dfce5",
   "metadata": {},
   "outputs": [],
   "source": [
    "ans.zad_2(last_five)"
   ]
  },
  {
   "cell_type": "markdown",
   "id": "2634a48a",
   "metadata": {},
   "source": [
    "### III.\n",
    "Sprawdź, ile **wierszy** (rzędów) posiada `pokemon_df`, wyświetl tą liczbę i zapisz ją w zmiennej `rows_count`."
   ]
  },
  {
   "cell_type": "code",
   "execution_count": null,
   "id": "8898c623",
   "metadata": {},
   "outputs": [],
   "source": [
    "rows_count = ...\n",
    "rows_count"
   ]
  },
  {
   "cell_type": "code",
   "execution_count": null,
   "id": "ad6ed8df",
   "metadata": {},
   "outputs": [],
   "source": [
    "ans.zad_3(rows_count)"
   ]
  },
  {
   "cell_type": "markdown",
   "id": "9faa69dc",
   "metadata": {},
   "source": [
    "### IV.\n",
    "Teraz sprawdź liczbę **kolumn** w `pokemon_df`, wyświetl ją i zapisz w zmiennej `columns_count`."
   ]
  },
  {
   "cell_type": "code",
   "execution_count": null,
   "id": "45855a1b",
   "metadata": {},
   "outputs": [],
   "source": [
    "columns_count = ...\n",
    "columns_count"
   ]
  },
  {
   "cell_type": "code",
   "execution_count": null,
   "id": "cc9f4f14",
   "metadata": {},
   "outputs": [],
   "source": [
    "ans.zad_4(columns_count)"
   ]
  },
  {
   "cell_type": "markdown",
   "id": "4c3d9a39",
   "metadata": {},
   "source": [
    "### V.\n",
    "Wybierz kolumnę `Speed` w `pokemon_df`, zapisz ją w zmiennej `speed_col` i wyświetl wynik."
   ]
  },
  {
   "cell_type": "code",
   "execution_count": null,
   "id": "69971e89",
   "metadata": {},
   "outputs": [],
   "source": [
    "speed_col = ...\n",
    "speed_col"
   ]
  },
  {
   "cell_type": "code",
   "execution_count": null,
   "id": "191fd881",
   "metadata": {},
   "outputs": [],
   "source": [
    "ans.zad_5(speed_col)"
   ]
  },
  {
   "cell_type": "markdown",
   "id": "258d48a4",
   "metadata": {},
   "source": [
    "### VI.\n",
    "Wykorzystaj zmienną `speed_col` z poprzedniego zadania, znajdź jakiego **typu** jest ta zmienna i zapisz odpowiedż w nowej zmiennej `speed_dtype`."
   ]
  },
  {
   "cell_type": "markdown",
   "id": "80654130",
   "metadata": {},
   "source": [
    "***UWAGA***: Nie użwyaj funkcji `type()` z biblioteki standardowej Python, tylko wykorzystaj narzędzia bibliotek Pandas lub Numpy."
   ]
  },
  {
   "cell_type": "code",
   "execution_count": null,
   "id": "1a2b68e8",
   "metadata": {},
   "outputs": [],
   "source": [
    "speed_dtype = ...\n",
    "speed_dtype"
   ]
  },
  {
   "cell_type": "code",
   "execution_count": null,
   "id": "319bb72f",
   "metadata": {},
   "outputs": [],
   "source": [
    "name = speed_dtype.name\n",
    "ans.zad_6(name)"
   ]
  },
  {
   "cell_type": "markdown",
   "id": "1a6802f0",
   "metadata": {},
   "source": [
    "### VII. (UPEL - Zadanie 1)\n",
    "Ile kolumn w `pokemon_df` posiada typ `object`? Wykorzystaj dostępne narzędzia i funkcje, a w razie potrzeby skorzystaj z internetu żeby znaleźć odpowiedź. W UPEL w zakładce `Zadanie 1` prześlij **liczbę kolumn**, które posiadają wspomniany wcześniej typ danych."
   ]
  },
  {
   "cell_type": "code",
   "execution_count": null,
   "id": "d9efac6b",
   "metadata": {},
   "outputs": [],
   "source": [
    "..."
   ]
  },
  {
   "cell_type": "markdown",
   "id": "b4fa1c25",
   "metadata": {},
   "source": [
    "### VIII.\n",
    "Znajdź, jaka jest maksymalna wartość w kolumnie `HP` w `pokemon_df`. Zapisz ją w zmiennej `max_hp` i wyświetl."
   ]
  },
  {
   "cell_type": "code",
   "execution_count": null,
   "id": "d5601366",
   "metadata": {},
   "outputs": [],
   "source": [
    "max_hp = ...\n",
    "max_hp"
   ]
  },
  {
   "cell_type": "code",
   "execution_count": null,
   "id": "448a7abd",
   "metadata": {},
   "outputs": [],
   "source": [
    "ans.zad_8(max_hp)"
   ]
  },
  {
   "cell_type": "markdown",
   "id": "bc7333de",
   "metadata": {},
   "source": [
    "### IX.\n",
    "Wyświetl rekord (wiersz) z `pokemon_df` odpowiadający pokemonowi, który posiada największą wartość `HP`, a także zapisz ten rekord w zmiennej `max_hp_pokemon`. Wykorzystaj wynik z poprzedniego zadania."
   ]
  },
  {
   "cell_type": "code",
   "execution_count": null,
   "id": "1581827f",
   "metadata": {},
   "outputs": [],
   "source": [
    "max_hp_pokemon = ...\n",
    "max_hp_pokemon"
   ]
  },
  {
   "cell_type": "code",
   "execution_count": null,
   "id": "6a80bfd1",
   "metadata": {},
   "outputs": [],
   "source": [
    "ans.zad_9(max_hp_pokemon)"
   ]
  },
  {
   "cell_type": "markdown",
   "id": "f40669f1",
   "metadata": {},
   "source": [
    "### X.\n",
    "Znajdź, jaka jest minimalna wartość w kolumnie `HP` w `pokemon_df`. Zapisz ją w zmiennej `min_hp` i wyświetl."
   ]
  },
  {
   "cell_type": "code",
   "execution_count": null,
   "id": "3462de76",
   "metadata": {},
   "outputs": [],
   "source": [
    "min_hp = ...\n",
    "min_hp"
   ]
  },
  {
   "cell_type": "code",
   "execution_count": null,
   "id": "86a75b4c",
   "metadata": {},
   "outputs": [],
   "source": [
    "ans.zad_10(min_hp)"
   ]
  },
  {
   "cell_type": "markdown",
   "id": "a373c9f4",
   "metadata": {},
   "source": [
    "### XI.\n",
    "Wyświetl rekord (wiersz) z `pokemon_df` odpowiadający pokemonowi, który posiada najmniejszą wartość `HP`, a także zapisz ten rekord w zmiennej `min_hp_pokemon`. Wykorzystaj wynik z poprzedniego zadania."
   ]
  },
  {
   "cell_type": "code",
   "execution_count": null,
   "id": "3b4330e6",
   "metadata": {},
   "outputs": [],
   "source": [
    "min_hp_pokemon = ...\n",
    "min_hp_pokemon"
   ]
  },
  {
   "cell_type": "code",
   "execution_count": null,
   "id": "f4a0601c",
   "metadata": {},
   "outputs": [],
   "source": [
    "ans.zad_11(min_hp_pokemon)"
   ]
  },
  {
   "cell_type": "markdown",
   "id": "f9cbf7c7",
   "metadata": {},
   "source": [
    "### XII.\n",
    "Stwórz kolumnę (obiekt pd.Series), która będzie posiadać stosunek `Attack` do `Defense` dla każdego pokemona w `pokemon_df`. Wynik zapisz do zmiennej `att_to_def_ratio` i wyświetl."
   ]
  },
  {
   "cell_type": "code",
   "execution_count": null,
   "id": "cbbc7598",
   "metadata": {},
   "outputs": [],
   "source": [
    "att_to_def_ratio = ...\n",
    "att_to_def_ratio"
   ]
  },
  {
   "cell_type": "code",
   "execution_count": null,
   "id": "bd55b1ef",
   "metadata": {},
   "outputs": [],
   "source": [
    "ans.zad_12(att_to_def_ratio)"
   ]
  },
  {
   "cell_type": "markdown",
   "id": "63a490fb",
   "metadata": {},
   "source": [
    "### XIII.\n",
    "Znajdź, jaka jest maksymalna wartość w `att_to_def_ratio`, zapisz ją do zmiennej `max_att_def_ratio`, a następnie znajdź rekord z odpowiadającym tej wartości pokemonem w `pokemon_df`. Zapisz ten rekord do zmiennej `glass_cannon`."
   ]
  },
  {
   "cell_type": "code",
   "execution_count": null,
   "id": "c8a47f4e",
   "metadata": {},
   "outputs": [],
   "source": [
    "max_att_def_ratio = ...\n",
    "glass_cannon = ...\n",
    "glass_cannon"
   ]
  },
  {
   "cell_type": "code",
   "execution_count": null,
   "id": "6e356ef2",
   "metadata": {},
   "outputs": [],
   "source": [
    "ans.zad_13(glass_cannon)"
   ]
  },
  {
   "cell_type": "markdown",
   "id": "7467d080",
   "metadata": {},
   "source": [
    "### XIV.\n",
    "Stwórz tabelę (DataFrame) zawierający wszystkie pokemony z `pokemon_df`, których `Type 2` to ***Fighting*** i których `Speed` jest **większy niż 50**. Zapisz ją do zmiennej `filtered_pokemons` i wyświetl."
   ]
  },
  {
   "cell_type": "code",
   "execution_count": null,
   "id": "9dae7c58",
   "metadata": {},
   "outputs": [],
   "source": [
    "filtered_pokemons = ...\n",
    "filtered_pokemons"
   ]
  },
  {
   "cell_type": "code",
   "execution_count": null,
   "id": "b190cd0a",
   "metadata": {},
   "outputs": [],
   "source": [
    "ans.zad_14(filtered_pokemons)"
   ]
  },
  {
   "cell_type": "markdown",
   "id": "be97bcf1",
   "metadata": {},
   "source": [
    "### XV. (UPEL - Zadanie 2)\n",
    "W `pokemon_df` znajdź rekord (wiersz) pokemona, który:\n",
    "* Jest **legendarny** (`Legendary` ma wartość True).\n",
    "* Jego `Type 1` to ***Steel***.\n",
    "* Jego `Generation` jest **większy niż 3**.\n",
    "* Jego `Speed` jest **większy niż 100**.\n",
    "\n",
    "Zapisz ten wiersz do zmiennej `legendary_pokemon` i wyświetl go. Na UPEL prześlij **nazwę** tego pokemona."
   ]
  },
  {
   "cell_type": "code",
   "execution_count": null,
   "id": "c5596111",
   "metadata": {},
   "outputs": [],
   "source": [
    "legendary_pokemon = ...\n",
    "legendary_pokemon"
   ]
  },
  {
   "cell_type": "markdown",
   "id": "f938dfe3",
   "metadata": {},
   "source": [
    "### XVI.\n",
    "Jakie to pokemony, których suma wszystkich atrybutów (`Total`) wynosi **420** i jednocześnie są smokami (`Type 1` to ***Dragon***)? Odpowiadające im rekordy w `pokemon_df` zapisz w zmiennej `dragons_420` i wyświetl."
   ]
  },
  {
   "cell_type": "code",
   "execution_count": null,
   "id": "864eb014",
   "metadata": {},
   "outputs": [],
   "source": [
    "dragons_420 = ...\n",
    "dragons_420"
   ]
  },
  {
   "cell_type": "code",
   "execution_count": null,
   "id": "e0a792a8",
   "metadata": {},
   "outputs": [],
   "source": [
    "ans.zad_16(dragons_420)"
   ]
  },
  {
   "cell_type": "markdown",
   "id": "e0132a64",
   "metadata": {},
   "source": [
    "### XVII.\n",
    "Spośród pokemonów w `pokemon_df`, których głównym typem jest ogień (`Type 1` to ***Fire***), znajdź tego, który ma największą wartość `Defense`. Odpowiedź zapisz w zmiennej `fire_tank` i wyświetl."
   ]
  },
  {
   "cell_type": "code",
   "execution_count": null,
   "id": "1ec9d6f9",
   "metadata": {},
   "outputs": [],
   "source": [
    "fire_tank = ...\n",
    "fire_tank"
   ]
  },
  {
   "cell_type": "code",
   "execution_count": null,
   "id": "c71f9e07",
   "metadata": {},
   "outputs": [],
   "source": [
    "ans.zad_17(fire_tank)"
   ]
  },
  {
   "cell_type": "markdown",
   "id": "5ede8c7e",
   "metadata": {},
   "source": [
    "### XVIII.\n",
    "Znajdź, jaki jest najczęściej występujący główny typ (`Type 1`) wśród pokemonów legendarnych. Odpowiedź jako **string** zapisz w zmiennej `most_common_legend_type`. W przypadku remisu decyduje kolejność alfabetyczna."
   ]
  },
  {
   "cell_type": "code",
   "execution_count": null,
   "id": "bb7d042c",
   "metadata": {},
   "outputs": [],
   "source": [
    "..."
   ]
  },
  {
   "cell_type": "code",
   "execution_count": null,
   "id": "6cd1addd",
   "metadata": {},
   "outputs": [],
   "source": [
    "most_common_legend_type = ..."
   ]
  },
  {
   "cell_type": "code",
   "execution_count": null,
   "id": "6bca2f7d",
   "metadata": {},
   "outputs": [],
   "source": [
    "ans.zad_18(most_common_legend_type)"
   ]
  },
  {
   "cell_type": "markdown",
   "id": "fcbb1d1f",
   "metadata": {},
   "source": [
    "### XIX.\n",
    "Stwórz histogram przedstawiający rozkład wartości w kolumnie `HP`."
   ]
  },
  {
   "cell_type": "code",
   "execution_count": null,
   "id": "955b52ae",
   "metadata": {},
   "outputs": [],
   "source": [
    "..."
   ]
  },
  {
   "cell_type": "markdown",
   "id": "5c751c4d",
   "metadata": {},
   "source": [
    "### XX.\n",
    "Stwórz obiekt *pd.Series*, który będzie zawierał informacje o tym, ile pokemonów należy do poszczególnych generacji (`Generation`). Zapisz go do zmiennej `generations` i wyświetl."
   ]
  },
  {
   "cell_type": "code",
   "execution_count": null,
   "id": "e08ea7dc",
   "metadata": {},
   "outputs": [],
   "source": [
    "generations = ...\n",
    "generations"
   ]
  },
  {
   "cell_type": "code",
   "execution_count": null,
   "id": "e2d79d89",
   "metadata": {},
   "outputs": [],
   "source": [
    "ans.zad_20(generations)"
   ]
  },
  {
   "cell_type": "markdown",
   "id": "8d1bf0c4",
   "metadata": {},
   "source": [
    "### XXI. (UPEL - Zadanie 3)\n",
    "Bazując na wyniku z poprzedniego zadania (zmienna `generations`), utwórz **procentowy** wykres kołowy wizualizujący informacje przedstawione w tej zmiennej. Wykres powinien zawierać **tytuł** i być czytelny."
   ]
  },
  {
   "cell_type": "code",
   "execution_count": null,
   "id": "f8ae8615",
   "metadata": {},
   "outputs": [],
   "source": [
    "..."
   ]
  },
  {
   "cell_type": "markdown",
   "id": "83bf84ef",
   "metadata": {},
   "source": [
    "### XXII. (UPEL - Zadanie 4)\n",
    "Stwórz wykres typu **scatter** przedstawiający `Attack` i `Defence` pokemonów latających (`Type 1` lub `Type 2` to ***Flying***). Wykres powinien zawierać:\n",
    "* Odpowiedni **tytuł**.\n",
    "* Oś **X** ma przedstawiać wartości z kolumny `Defense` i mieć odpowiednie oznaczenie (label).\n",
    "* Oś **Y** ma przedstawiać wartości z kolumny `Attack` i mieć odpowiednie oznaczenie (label.\n",
    "* Wykres ma mieć **grid** (siatkę).\n",
    "\n",
    "Zacznij od zapisania wszystkich pokemonów latających do zmiennej `flying_pokemons`."
   ]
  },
  {
   "cell_type": "code",
   "execution_count": null,
   "id": "49274c79",
   "metadata": {},
   "outputs": [],
   "source": [
    "flying_pokemons = ...\n",
    "flying_pokemons"
   ]
  },
  {
   "cell_type": "code",
   "execution_count": null,
   "id": "0e63d357",
   "metadata": {},
   "outputs": [],
   "source": [
    "..."
   ]
  },
  {
   "cell_type": "markdown",
   "id": "35f9e0c2",
   "metadata": {},
   "source": [
    "### XXIII.\n",
    "Stwórz wykres **słupkowy** obrazujący, ile jest różnych typów pokemonów (kolumna `Type 1`). Wykres powinien mieć odpowiedni tytuł, a także mieć podpisane osie."
   ]
  },
  {
   "cell_type": "code",
   "execution_count": null,
   "id": "83adec82",
   "metadata": {},
   "outputs": [],
   "source": [
    "..."
   ]
  },
  {
   "cell_type": "markdown",
   "id": "7c1523ab",
   "metadata": {},
   "source": [
    "## Część dodatkowa\n",
    "Poniżej znajdują się dodatkowe zadania z tworzenia wykresów i wizualizacji danych. Od tego momentu wykorzystywać będziemy zestaw `tips_df`. Poniżej wyświetlono jak wygląda nasz nowy zestaw danych."
   ]
  },
  {
   "cell_type": "code",
   "execution_count": null,
   "id": "818bd46c",
   "metadata": {},
   "outputs": [],
   "source": [
    "tips_df"
   ]
  },
  {
   "cell_type": "markdown",
   "id": "b89751bc",
   "metadata": {},
   "source": [
    "### XXIV.\n",
    "Korzystając z `tips_df` stwórz procentowy wykres **kołowy**, gdzie będzie informacja jak dużo napiwków dają osoby palące (kolumna `smoker`) i osoby niepalące. Wykres powinien zawierać tytuł i być czytelny. Zacznij od stworzenia zmiennej `smokers_count`, przechowującej potrzebne do wykresu dane."
   ]
  },
  {
   "cell_type": "code",
   "execution_count": null,
   "id": "acbea9b8",
   "metadata": {},
   "outputs": [],
   "source": [
    "smokers_count = ...\n",
    "smokers_count"
   ]
  },
  {
   "cell_type": "code",
   "execution_count": null,
   "id": "6714f083",
   "metadata": {},
   "outputs": [],
   "source": [
    "..."
   ]
  },
  {
   "cell_type": "markdown",
   "id": "de309708",
   "metadata": {},
   "source": [
    "### XXV.\n",
    "Korzystając z `tips_df`, stwórz procentowy wykres **kołowy**, na którym będzie informacja jak dużo napiwków dają mężczyźni, a jak dużo kobiety (kolumna `sex`). Zacznij od stworzenia zmiennej `tips_by_sex` przechowującej potrzebne dane. Wykres powinien zawierać tytuł i być czytelny."
   ]
  },
  {
   "cell_type": "code",
   "execution_count": null,
   "id": "afd5c7ac",
   "metadata": {},
   "outputs": [],
   "source": [
    "tips_by_sex = ...\n",
    "tips_by_sex"
   ]
  },
  {
   "cell_type": "code",
   "execution_count": null,
   "id": "7a3d0061",
   "metadata": {},
   "outputs": [],
   "source": [
    "..."
   ]
  },
  {
   "cell_type": "markdown",
   "id": "c8322056",
   "metadata": {},
   "source": [
    "### XXVI.\n",
    "Korzystająć z `tips_df`, stwórzy horyzontalny wykres **słupkowy**, na którym będzie informacja ile napiwków zostało danych w zależności od dnia tygodnia. Zacznij od stworzenia zmiennej `tips_by_day` przechowującej potrzebne informacje. Wykres powinien zawierać tytuł, podpisane osie i być czytelny. Spróbuj użyć różnych kolorów na każdy dzień tygodnia."
   ]
  },
  {
   "cell_type": "code",
   "execution_count": null,
   "id": "da9033c0",
   "metadata": {},
   "outputs": [],
   "source": [
    "tips_by_day = ...\n",
    "tips_by_day"
   ]
  },
  {
   "cell_type": "code",
   "execution_count": null,
   "id": "52a51eb1",
   "metadata": {},
   "outputs": [],
   "source": [
    "..."
   ]
  }
 ],
 "metadata": {
  "kernelspec": {
   "display_name": "Python 3 (ipykernel)",
   "language": "python",
   "name": "python3"
  },
  "language_info": {
   "codemirror_mode": {
    "name": "ipython",
    "version": 3
   },
   "file_extension": ".py",
   "mimetype": "text/x-python",
   "name": "python",
   "nbconvert_exporter": "python",
   "pygments_lexer": "ipython3",
   "version": "3.10.13"
  }
 },
 "nbformat": 4,
 "nbformat_minor": 5
}
