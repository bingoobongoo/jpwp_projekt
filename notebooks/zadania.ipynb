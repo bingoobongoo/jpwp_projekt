{
 "cells": [
  {
   "cell_type": "markdown",
   "id": "48591090",
   "metadata": {},
   "source": [
    "# Analiza, inżynieria i wizualizacja danych z NumPy, Pandas i Matplotlib\n",
    "W tym notatnku znajdują się zadania części praktycznej prezentacji. Wykonanie zadań jest możliwe w Google Colab. Wszelkie potrzebne materiały można pobrać z repozytorium GitHub: https://github.com/bingoobongoo/jpwp_projekt. Odpowiedzi do niektórych zadań należy przesłać na platformę **UPEL**. Zadanie te będą specjalnie oznaczone, wystarczy skopiować wynik i przesłać w odpowiedniej zakładce. Rozwiązania zadań można znaleźć w pliku ***answers.py*** znajdującym się w folderze *notebooks*."
   ]
  },
  {
   "cell_type": "markdown",
   "id": "ab3f6dd5",
   "metadata": {},
   "source": [
    "Linki do dokumentacji modułów:\n",
    "\n",
    "* **Pandas**: https://pandas.pydata.org/docs/\n",
    "* **NumPy**: https://numpy.org/doc/stable/reference/index.html#reference\n",
    "* **Matplotlib**: https://matplotlib.org/stable/api/index"
   ]
  },
  {
   "cell_type": "markdown",
   "id": "a72532df",
   "metadata": {},
   "source": [
    "## Skróty klawiszowe\n",
    "Do sprawnej pracy w Google Colab warto korzystać z ułatwiających życie skrótów klawiszowych, najważniejsze z nich wymieniono poniżej:\n",
    "\n",
    "* `Ctrl + M + B` - dodanie nowej komórki poniżej aktualnie zaznaczonej\n",
    "* `Ctrl + M + A` - dodanie nowej komórki powyżej aktualnie zaznaczonej\n",
    "* `Ctrl + M + D` - usunięcie aktualnie zaznaczonej komórki\n",
    "* `Ctrl + Enter` - uruchomienie aktualnie zaznaczonej komórki\n",
    "* `Shift + Enter` - uruchomienie aktualnie zaznaczonej komórki i przejście do kolejnej\n",
    "* `Ctrl + M + M` - zmienienie aktualnie zaznaczonej komórki na komórkę tekstową (markdown)\n",
    "* `Ctrl + M + Y` - zmienienie aktualnie zaznaczonej komórki na komórkę kodu\n",
    "* `Ctrl + M + .` - ponowne uruchomienie sesji Google Colab"
   ]
  },
  {
   "cell_type": "markdown",
   "id": "3ce35116",
   "metadata": {},
   "source": [
    "## Możliwe do napotkania problemy\n",
    "Google Colab oferuje darmowe korzystanie z chmury, czyli mocy obliczeniowej zdalnego serwera. Czasem z różnych powodów połączenie z serwerem może zostać przerwane. W takim wypadku należy ponownie nawiązać połączenie z serwerem poprzez przycisk **połącz** albo **połącz ponownie**. Niezbędne będzie także ponowne przesłanie plików z danymi i odpowiedziami znajdującymi się w folderze *data*. Zmiany wprowadzone w notebooku zostaną niezmienione, trzeba będzie jedynie uruchomić od początku wszystkie komórki aż do tej, gdzie ostatnio skończyliśmy."
   ]
  },
  {
   "cell_type": "markdown",
   "id": "b5583595",
   "metadata": {},
   "source": [
    "## Sprawdzanie poprawności odpowiedzi\n",
    "Pod każdym zadaniem (z wyjątkiem zadań na UPEL) będzie funkcja sprawdzająca poprawność odpowiedzi. Obiekt zawierający odpowiedź do zadania należy zapisać do odpowiednio nazwanej zmiennej, a następnie uruchomić komórkę sprawdzającą. Opcjonalnie, jako drugi argument funkcji sprawdzającej można wpisać `True`, jeśli chcemy uzyskać podpowiedź do zadania."
   ]
  },
  {
   "cell_type": "markdown",
   "id": "86ed1599",
   "metadata": {},
   "source": [
    "# Zadania praktyczne\n",
    "Zacznijmy od zaimportowania odpowienich bibliotek oraz pierwszego zestawu danych. W przypadku błędu przy importowaniu plików **.csv** sprawdź, czy są one przesłane do odpowieniego folderu w Google Colab."
   ]
  },
  {
   "cell_type": "code",
   "execution_count": 1,
   "id": "ca94916d",
   "metadata": {},
   "outputs": [],
   "source": [
    "import numpy as np\n",
    "import pandas as pd\n",
    "import matplotlib.pyplot as plt\n",
    "import answers as ans"
   ]
  },
  {
   "cell_type": "code",
   "execution_count": 2,
   "id": "cef69a64",
   "metadata": {},
   "outputs": [],
   "source": [
    "pokemon_df = pd.read_csv('../data/pokemon.csv', index_col=0)"
   ]
  },
  {
   "cell_type": "markdown",
   "id": "b48774e9",
   "metadata": {},
   "source": [
    "### I.\n",
    "Zacznijmy od przyjrzenia się naszemu zestawowi danych. Wyświetl **10** pierwszych rzędów `pokemon_df` i zapisz je w zmiennej `first_ten`."
   ]
  },
  {
   "cell_type": "code",
   "execution_count": 3,
   "id": "88fde3fd",
   "metadata": {},
   "outputs": [
    {
     "data": {
      "text/html": [
       "<div>\n",
       "<style scoped>\n",
       "    .dataframe tbody tr th:only-of-type {\n",
       "        vertical-align: middle;\n",
       "    }\n",
       "\n",
       "    .dataframe tbody tr th {\n",
       "        vertical-align: top;\n",
       "    }\n",
       "\n",
       "    .dataframe thead th {\n",
       "        text-align: right;\n",
       "    }\n",
       "</style>\n",
       "<table border=\"1\" class=\"dataframe\">\n",
       "  <thead>\n",
       "    <tr style=\"text-align: right;\">\n",
       "      <th></th>\n",
       "      <th>Name</th>\n",
       "      <th>Type 1</th>\n",
       "      <th>Type 2</th>\n",
       "      <th>Total</th>\n",
       "      <th>HP</th>\n",
       "      <th>Attack</th>\n",
       "      <th>Defense</th>\n",
       "      <th>Sp. Atk</th>\n",
       "      <th>Sp. Def</th>\n",
       "      <th>Speed</th>\n",
       "      <th>Generation</th>\n",
       "      <th>Legendary</th>\n",
       "    </tr>\n",
       "  </thead>\n",
       "  <tbody>\n",
       "    <tr>\n",
       "      <th>0</th>\n",
       "      <td>Bulbasaur</td>\n",
       "      <td>Grass</td>\n",
       "      <td>Poison</td>\n",
       "      <td>318</td>\n",
       "      <td>45</td>\n",
       "      <td>49</td>\n",
       "      <td>49</td>\n",
       "      <td>65</td>\n",
       "      <td>65</td>\n",
       "      <td>45</td>\n",
       "      <td>1</td>\n",
       "      <td>False</td>\n",
       "    </tr>\n",
       "    <tr>\n",
       "      <th>1</th>\n",
       "      <td>Ivysaur</td>\n",
       "      <td>Grass</td>\n",
       "      <td>Poison</td>\n",
       "      <td>405</td>\n",
       "      <td>60</td>\n",
       "      <td>62</td>\n",
       "      <td>63</td>\n",
       "      <td>80</td>\n",
       "      <td>80</td>\n",
       "      <td>60</td>\n",
       "      <td>1</td>\n",
       "      <td>False</td>\n",
       "    </tr>\n",
       "    <tr>\n",
       "      <th>2</th>\n",
       "      <td>Charmander</td>\n",
       "      <td>Fire</td>\n",
       "      <td>NaN</td>\n",
       "      <td>309</td>\n",
       "      <td>39</td>\n",
       "      <td>52</td>\n",
       "      <td>43</td>\n",
       "      <td>60</td>\n",
       "      <td>50</td>\n",
       "      <td>65</td>\n",
       "      <td>1</td>\n",
       "      <td>False</td>\n",
       "    </tr>\n",
       "    <tr>\n",
       "      <th>3</th>\n",
       "      <td>Charmeleon</td>\n",
       "      <td>Fire</td>\n",
       "      <td>NaN</td>\n",
       "      <td>405</td>\n",
       "      <td>58</td>\n",
       "      <td>64</td>\n",
       "      <td>58</td>\n",
       "      <td>80</td>\n",
       "      <td>65</td>\n",
       "      <td>80</td>\n",
       "      <td>1</td>\n",
       "      <td>False</td>\n",
       "    </tr>\n",
       "    <tr>\n",
       "      <th>4</th>\n",
       "      <td>Squirtle</td>\n",
       "      <td>Water</td>\n",
       "      <td>NaN</td>\n",
       "      <td>314</td>\n",
       "      <td>44</td>\n",
       "      <td>48</td>\n",
       "      <td>65</td>\n",
       "      <td>50</td>\n",
       "      <td>64</td>\n",
       "      <td>43</td>\n",
       "      <td>1</td>\n",
       "      <td>False</td>\n",
       "    </tr>\n",
       "    <tr>\n",
       "      <th>5</th>\n",
       "      <td>Wartortle</td>\n",
       "      <td>Water</td>\n",
       "      <td>NaN</td>\n",
       "      <td>405</td>\n",
       "      <td>59</td>\n",
       "      <td>63</td>\n",
       "      <td>80</td>\n",
       "      <td>65</td>\n",
       "      <td>80</td>\n",
       "      <td>58</td>\n",
       "      <td>1</td>\n",
       "      <td>False</td>\n",
       "    </tr>\n",
       "    <tr>\n",
       "      <th>6</th>\n",
       "      <td>Caterpie</td>\n",
       "      <td>Bug</td>\n",
       "      <td>NaN</td>\n",
       "      <td>195</td>\n",
       "      <td>45</td>\n",
       "      <td>30</td>\n",
       "      <td>35</td>\n",
       "      <td>20</td>\n",
       "      <td>20</td>\n",
       "      <td>45</td>\n",
       "      <td>1</td>\n",
       "      <td>False</td>\n",
       "    </tr>\n",
       "    <tr>\n",
       "      <th>7</th>\n",
       "      <td>Metapod</td>\n",
       "      <td>Bug</td>\n",
       "      <td>NaN</td>\n",
       "      <td>205</td>\n",
       "      <td>50</td>\n",
       "      <td>20</td>\n",
       "      <td>55</td>\n",
       "      <td>25</td>\n",
       "      <td>25</td>\n",
       "      <td>30</td>\n",
       "      <td>1</td>\n",
       "      <td>False</td>\n",
       "    </tr>\n",
       "    <tr>\n",
       "      <th>8</th>\n",
       "      <td>Butterfree</td>\n",
       "      <td>Bug</td>\n",
       "      <td>Flying</td>\n",
       "      <td>395</td>\n",
       "      <td>60</td>\n",
       "      <td>45</td>\n",
       "      <td>50</td>\n",
       "      <td>90</td>\n",
       "      <td>80</td>\n",
       "      <td>70</td>\n",
       "      <td>1</td>\n",
       "      <td>False</td>\n",
       "    </tr>\n",
       "    <tr>\n",
       "      <th>9</th>\n",
       "      <td>Weedle</td>\n",
       "      <td>Bug</td>\n",
       "      <td>Poison</td>\n",
       "      <td>195</td>\n",
       "      <td>40</td>\n",
       "      <td>35</td>\n",
       "      <td>30</td>\n",
       "      <td>20</td>\n",
       "      <td>20</td>\n",
       "      <td>50</td>\n",
       "      <td>1</td>\n",
       "      <td>False</td>\n",
       "    </tr>\n",
       "    <tr>\n",
       "      <th>10</th>\n",
       "      <td>Kakuna</td>\n",
       "      <td>Bug</td>\n",
       "      <td>Poison</td>\n",
       "      <td>205</td>\n",
       "      <td>45</td>\n",
       "      <td>25</td>\n",
       "      <td>50</td>\n",
       "      <td>25</td>\n",
       "      <td>25</td>\n",
       "      <td>35</td>\n",
       "      <td>1</td>\n",
       "      <td>False</td>\n",
       "    </tr>\n",
       "    <tr>\n",
       "      <th>11</th>\n",
       "      <td>Pidgey</td>\n",
       "      <td>Normal</td>\n",
       "      <td>Flying</td>\n",
       "      <td>251</td>\n",
       "      <td>40</td>\n",
       "      <td>45</td>\n",
       "      <td>40</td>\n",
       "      <td>35</td>\n",
       "      <td>35</td>\n",
       "      <td>56</td>\n",
       "      <td>1</td>\n",
       "      <td>False</td>\n",
       "    </tr>\n",
       "  </tbody>\n",
       "</table>\n",
       "</div>"
      ],
      "text/plain": [
       "          Name  Type 1  Type 2  Total  HP  Attack  Defense  Sp. Atk  Sp. Def  \\\n",
       "0    Bulbasaur   Grass  Poison    318  45      49       49       65       65   \n",
       "1      Ivysaur   Grass  Poison    405  60      62       63       80       80   \n",
       "2   Charmander    Fire     NaN    309  39      52       43       60       50   \n",
       "3   Charmeleon    Fire     NaN    405  58      64       58       80       65   \n",
       "4     Squirtle   Water     NaN    314  44      48       65       50       64   \n",
       "5    Wartortle   Water     NaN    405  59      63       80       65       80   \n",
       "6     Caterpie     Bug     NaN    195  45      30       35       20       20   \n",
       "7      Metapod     Bug     NaN    205  50      20       55       25       25   \n",
       "8   Butterfree     Bug  Flying    395  60      45       50       90       80   \n",
       "9       Weedle     Bug  Poison    195  40      35       30       20       20   \n",
       "10      Kakuna     Bug  Poison    205  45      25       50       25       25   \n",
       "11      Pidgey  Normal  Flying    251  40      45       40       35       35   \n",
       "\n",
       "    Speed  Generation  Legendary  \n",
       "0      45           1      False  \n",
       "1      60           1      False  \n",
       "2      65           1      False  \n",
       "3      80           1      False  \n",
       "4      43           1      False  \n",
       "5      58           1      False  \n",
       "6      45           1      False  \n",
       "7      30           1      False  \n",
       "8      70           1      False  \n",
       "9      50           1      False  \n",
       "10     35           1      False  \n",
       "11     56           1      False  "
      ]
     },
     "execution_count": 3,
     "metadata": {},
     "output_type": "execute_result"
    }
   ],
   "source": [
    "first_ten = pokemon_df.head(12)\n",
    "first_ten"
   ]
  },
  {
   "cell_type": "code",
   "execution_count": 4,
   "id": "42b17326",
   "metadata": {},
   "outputs": [
    {
     "name": "stdout",
     "output_type": "stream",
     "text": [
      "💡 Spróbuj użyć funkcji head().\n",
      "✗ Zły wynik!\n"
     ]
    }
   ],
   "source": [
    "ans.zad_1(first_ten, True)"
   ]
  },
  {
   "cell_type": "markdown",
   "id": "9c432841",
   "metadata": {},
   "source": [
    "### II.\n",
    "Teraz wyświetl **5** ostatnich rzędów `pokemon_df` i zapisz je w zmiennej `last_five`."
   ]
  },
  {
   "cell_type": "code",
   "execution_count": 5,
   "id": "895eb90f",
   "metadata": {},
   "outputs": [
    {
     "data": {
      "text/html": [
       "<div>\n",
       "<style scoped>\n",
       "    .dataframe tbody tr th:only-of-type {\n",
       "        vertical-align: middle;\n",
       "    }\n",
       "\n",
       "    .dataframe tbody tr th {\n",
       "        vertical-align: top;\n",
       "    }\n",
       "\n",
       "    .dataframe thead th {\n",
       "        text-align: right;\n",
       "    }\n",
       "</style>\n",
       "<table border=\"1\" class=\"dataframe\">\n",
       "  <thead>\n",
       "    <tr style=\"text-align: right;\">\n",
       "      <th></th>\n",
       "      <th>Name</th>\n",
       "      <th>Type 1</th>\n",
       "      <th>Type 2</th>\n",
       "      <th>Total</th>\n",
       "      <th>HP</th>\n",
       "      <th>Attack</th>\n",
       "      <th>Defense</th>\n",
       "      <th>Sp. Atk</th>\n",
       "      <th>Sp. Def</th>\n",
       "      <th>Speed</th>\n",
       "      <th>Generation</th>\n",
       "      <th>Legendary</th>\n",
       "    </tr>\n",
       "  </thead>\n",
       "  <tbody>\n",
       "    <tr>\n",
       "      <th>650</th>\n",
       "      <td>Noibat</td>\n",
       "      <td>Flying</td>\n",
       "      <td>Dragon</td>\n",
       "      <td>245</td>\n",
       "      <td>40</td>\n",
       "      <td>30</td>\n",
       "      <td>35</td>\n",
       "      <td>45</td>\n",
       "      <td>40</td>\n",
       "      <td>55</td>\n",
       "      <td>6</td>\n",
       "      <td>False</td>\n",
       "    </tr>\n",
       "    <tr>\n",
       "      <th>651</th>\n",
       "      <td>Noivern</td>\n",
       "      <td>Flying</td>\n",
       "      <td>Dragon</td>\n",
       "      <td>535</td>\n",
       "      <td>85</td>\n",
       "      <td>70</td>\n",
       "      <td>80</td>\n",
       "      <td>97</td>\n",
       "      <td>80</td>\n",
       "      <td>123</td>\n",
       "      <td>6</td>\n",
       "      <td>False</td>\n",
       "    </tr>\n",
       "    <tr>\n",
       "      <th>652</th>\n",
       "      <td>Xerneas</td>\n",
       "      <td>Fairy</td>\n",
       "      <td>NaN</td>\n",
       "      <td>680</td>\n",
       "      <td>126</td>\n",
       "      <td>131</td>\n",
       "      <td>95</td>\n",
       "      <td>131</td>\n",
       "      <td>98</td>\n",
       "      <td>99</td>\n",
       "      <td>6</td>\n",
       "      <td>True</td>\n",
       "    </tr>\n",
       "    <tr>\n",
       "      <th>653</th>\n",
       "      <td>Yveltal</td>\n",
       "      <td>Dark</td>\n",
       "      <td>Flying</td>\n",
       "      <td>680</td>\n",
       "      <td>126</td>\n",
       "      <td>131</td>\n",
       "      <td>95</td>\n",
       "      <td>131</td>\n",
       "      <td>98</td>\n",
       "      <td>99</td>\n",
       "      <td>6</td>\n",
       "      <td>True</td>\n",
       "    </tr>\n",
       "    <tr>\n",
       "      <th>654</th>\n",
       "      <td>Volcanion</td>\n",
       "      <td>Fire</td>\n",
       "      <td>Water</td>\n",
       "      <td>600</td>\n",
       "      <td>80</td>\n",
       "      <td>110</td>\n",
       "      <td>120</td>\n",
       "      <td>130</td>\n",
       "      <td>90</td>\n",
       "      <td>70</td>\n",
       "      <td>6</td>\n",
       "      <td>True</td>\n",
       "    </tr>\n",
       "  </tbody>\n",
       "</table>\n",
       "</div>"
      ],
      "text/plain": [
       "          Name  Type 1  Type 2  Total   HP  Attack  Defense  Sp. Atk  Sp. Def  \\\n",
       "650     Noibat  Flying  Dragon    245   40      30       35       45       40   \n",
       "651    Noivern  Flying  Dragon    535   85      70       80       97       80   \n",
       "652    Xerneas   Fairy     NaN    680  126     131       95      131       98   \n",
       "653    Yveltal    Dark  Flying    680  126     131       95      131       98   \n",
       "654  Volcanion    Fire   Water    600   80     110      120      130       90   \n",
       "\n",
       "     Speed  Generation  Legendary  \n",
       "650     55           6      False  \n",
       "651    123           6      False  \n",
       "652     99           6       True  \n",
       "653     99           6       True  \n",
       "654     70           6       True  "
      ]
     },
     "execution_count": 5,
     "metadata": {},
     "output_type": "execute_result"
    }
   ],
   "source": [
    "last_five = pokemon_df.tail()\n",
    "last_five"
   ]
  },
  {
   "cell_type": "code",
   "execution_count": 6,
   "id": "654dfce5",
   "metadata": {},
   "outputs": [
    {
     "name": "stdout",
     "output_type": "stream",
     "text": [
      "💡 Spróbuj użyć funkcji tail().\n",
      "✓ Wynik poprawny!\n"
     ]
    }
   ],
   "source": [
    "ans.zad_2(last_five, True)"
   ]
  },
  {
   "cell_type": "markdown",
   "id": "2634a48a",
   "metadata": {},
   "source": [
    "### III.\n",
    "Sprawdź, ile **wierszy** (rzędów) posiada `pokemon_df`, wyświetl tą liczbę i zapisz ją w zmiennej `rows_count`."
   ]
  },
  {
   "cell_type": "code",
   "execution_count": 7,
   "id": "8898c623",
   "metadata": {},
   "outputs": [
    {
     "data": {
      "text/plain": [
       "655"
      ]
     },
     "execution_count": 7,
     "metadata": {},
     "output_type": "execute_result"
    }
   ],
   "source": [
    "rows_count = pokemon_df.shape[0]\n",
    "rows_count"
   ]
  },
  {
   "cell_type": "code",
   "execution_count": 8,
   "id": "ad6ed8df",
   "metadata": {},
   "outputs": [
    {
     "name": "stdout",
     "output_type": "stream",
     "text": [
      "💡 Sprawdź atrybut `shape` obiektu `pokemon_df.\n",
      "✓ Wynik poprawny!\n"
     ]
    }
   ],
   "source": [
    "ans.zad_3(rows_count, True)"
   ]
  },
  {
   "cell_type": "markdown",
   "id": "9faa69dc",
   "metadata": {},
   "source": [
    "### IV.\n",
    "Teraz sprawdź liczbę **kolumn** w `pokemon_df`, wyświetl ją i zapisz w zmiennej `columns_count`."
   ]
  },
  {
   "cell_type": "code",
   "execution_count": 9,
   "id": "45855a1b",
   "metadata": {},
   "outputs": [
    {
     "data": {
      "text/plain": [
       "12"
      ]
     },
     "execution_count": 9,
     "metadata": {},
     "output_type": "execute_result"
    }
   ],
   "source": [
    "columns_count = pokemon_df.shape[1]\n",
    "columns_count"
   ]
  },
  {
   "cell_type": "code",
   "execution_count": 10,
   "id": "cc9f4f14",
   "metadata": {},
   "outputs": [
    {
     "name": "stdout",
     "output_type": "stream",
     "text": [
      "💡 Sprawdź atrybut `shape` obiektu `pokemon_df.\n",
      "✓ Wynik poprawny!\n"
     ]
    }
   ],
   "source": [
    "ans.zad_4(columns_count, True)"
   ]
  },
  {
   "cell_type": "markdown",
   "id": "4c3d9a39",
   "metadata": {},
   "source": [
    "### V.\n",
    "Wybierz kolumnę `Speed` w `pokemon_df`, zapisz ją w zmiennej `speed_col` i wyświetl wynik."
   ]
  },
  {
   "cell_type": "code",
   "execution_count": 11,
   "id": "69971e89",
   "metadata": {},
   "outputs": [
    {
     "data": {
      "text/plain": [
       "0       45\n",
       "1       60\n",
       "2       65\n",
       "3       80\n",
       "4       43\n",
       "      ... \n",
       "650     55\n",
       "651    123\n",
       "652     99\n",
       "653     99\n",
       "654     70\n",
       "Name: Speed, Length: 655, dtype: int64"
      ]
     },
     "execution_count": 11,
     "metadata": {},
     "output_type": "execute_result"
    }
   ],
   "source": [
    "speed_col = pokemon_df['Speed']\n",
    "speed_col"
   ]
  },
  {
   "cell_type": "code",
   "execution_count": 12,
   "id": "191fd881",
   "metadata": {},
   "outputs": [
    {
     "name": "stdout",
     "output_type": "stream",
     "text": [
      "💡 Spróbuj wybrać kolumnę stosując nawiasy kwadratowe [].\n",
      "✓ Wynik poprawny!\n"
     ]
    }
   ],
   "source": [
    "ans.zad_5(speed_col, True)"
   ]
  },
  {
   "cell_type": "markdown",
   "id": "258d48a4",
   "metadata": {},
   "source": [
    "### VI.\n",
    "Wykorzystaj zmienną `speed_col` z poprzedniego zadania, znajdź jakiego **typu** jest ta zmienna i zapisz odpowiedż w nowej zmiennej `speed_dtype`."
   ]
  },
  {
   "cell_type": "markdown",
   "id": "80654130",
   "metadata": {},
   "source": [
    "***UWAGA***: Nie użwyaj funkcji `type()` z biblioteki standardowej Python, tylko wykorzystaj narzędzia bibliotek Pandas lub Numpy."
   ]
  },
  {
   "cell_type": "code",
   "execution_count": 13,
   "id": "1a2b68e8",
   "metadata": {},
   "outputs": [
    {
     "data": {
      "text/plain": [
       "dtype('int64')"
      ]
     },
     "execution_count": 13,
     "metadata": {},
     "output_type": "execute_result"
    }
   ],
   "source": [
    "speed_dtype = speed_col.dtype\n",
    "speed_dtype"
   ]
  },
  {
   "cell_type": "code",
   "execution_count": 14,
   "id": "319bb72f",
   "metadata": {},
   "outputs": [
    {
     "name": "stdout",
     "output_type": "stream",
     "text": [
      "💡 Sprawdź atrybut `dtype` kolumny `speed_col`.\n",
      "✓ Wynik poprawny!\n"
     ]
    }
   ],
   "source": [
    "name = speed_dtype.name\n",
    "ans.zad_6(name, True)"
   ]
  },
  {
   "cell_type": "markdown",
   "id": "1a6802f0",
   "metadata": {},
   "source": [
    "### VII. (UPEL - Zadanie 1)\n",
    "Ile kolumn w `pokemon_df` posiada typ `object`? Wykorzystaj dostępne narzędzia i funkcje, a w razie potrzeby skorzystaj z internetu żeby znaleźć odpowiedź. W UPEL w zakładce `Zadanie 1` prześlij **liczbę kolumn**, które posiadają wspomniany wcześniej typ danych."
   ]
  },
  {
   "cell_type": "code",
   "execution_count": 15,
   "id": "d9efac6b",
   "metadata": {},
   "outputs": [
    {
     "data": {
      "text/plain": [
       "3"
      ]
     },
     "execution_count": 15,
     "metadata": {},
     "output_type": "execute_result"
    }
   ],
   "source": [
    "(pokemon_df.dtypes == 'object').sum()"
   ]
  },
  {
   "cell_type": "markdown",
   "id": "b4fa1c25",
   "metadata": {},
   "source": [
    "### VIII.\n",
    "Znajdź, jaka jest maksymalna wartość w kolumnie `HP` w `pokemon_df`. Zapisz ją w zmiennej `max_hp` i wyświetl."
   ]
  },
  {
   "cell_type": "code",
   "execution_count": 16,
   "id": "d5601366",
   "metadata": {},
   "outputs": [
    {
     "data": {
      "text/plain": [
       "255"
      ]
     },
     "execution_count": 16,
     "metadata": {},
     "output_type": "execute_result"
    }
   ],
   "source": [
    "max_hp = pokemon_df['HP'].max()\n",
    "max_hp"
   ]
  },
  {
   "cell_type": "code",
   "execution_count": 17,
   "id": "448a7abd",
   "metadata": {},
   "outputs": [
    {
     "name": "stdout",
     "output_type": "stream",
     "text": [
      "💡 Wybierz odpowiednią kolumnę i wykorzytaj funkcję max().\n",
      "✓ Wynik poprawny!\n"
     ]
    }
   ],
   "source": [
    "ans.zad_8(max_hp, True)"
   ]
  },
  {
   "cell_type": "markdown",
   "id": "bc7333de",
   "metadata": {},
   "source": [
    "### IX.\n",
    "Wyświetl rekord (wiersz) z `pokemon_df` odpowiadający pokemonowi, który posiada największą wartość `HP`, a także zapisz ten rekord w zmiennej `max_hp_pokemon`. Wykorzystaj wynik z poprzedniego zadania."
   ]
  },
  {
   "cell_type": "code",
   "execution_count": 18,
   "id": "1581827f",
   "metadata": {},
   "outputs": [
    {
     "data": {
      "text/html": [
       "<div>\n",
       "<style scoped>\n",
       "    .dataframe tbody tr th:only-of-type {\n",
       "        vertical-align: middle;\n",
       "    }\n",
       "\n",
       "    .dataframe tbody tr th {\n",
       "        vertical-align: top;\n",
       "    }\n",
       "\n",
       "    .dataframe thead th {\n",
       "        text-align: right;\n",
       "    }\n",
       "</style>\n",
       "<table border=\"1\" class=\"dataframe\">\n",
       "  <thead>\n",
       "    <tr style=\"text-align: right;\">\n",
       "      <th></th>\n",
       "      <th>Name</th>\n",
       "      <th>Type 1</th>\n",
       "      <th>Type 2</th>\n",
       "      <th>Total</th>\n",
       "      <th>HP</th>\n",
       "      <th>Attack</th>\n",
       "      <th>Defense</th>\n",
       "      <th>Sp. Atk</th>\n",
       "      <th>Sp. Def</th>\n",
       "      <th>Speed</th>\n",
       "      <th>Generation</th>\n",
       "      <th>Legendary</th>\n",
       "    </tr>\n",
       "  </thead>\n",
       "  <tbody>\n",
       "    <tr>\n",
       "      <th>222</th>\n",
       "      <td>Blissey</td>\n",
       "      <td>Normal</td>\n",
       "      <td>NaN</td>\n",
       "      <td>540</td>\n",
       "      <td>255</td>\n",
       "      <td>10</td>\n",
       "      <td>10</td>\n",
       "      <td>75</td>\n",
       "      <td>135</td>\n",
       "      <td>55</td>\n",
       "      <td>2</td>\n",
       "      <td>False</td>\n",
       "    </tr>\n",
       "  </tbody>\n",
       "</table>\n",
       "</div>"
      ],
      "text/plain": [
       "        Name  Type 1 Type 2  Total   HP  Attack  Defense  Sp. Atk  Sp. Def  \\\n",
       "222  Blissey  Normal    NaN    540  255      10       10       75      135   \n",
       "\n",
       "     Speed  Generation  Legendary  \n",
       "222     55           2      False  "
      ]
     },
     "execution_count": 18,
     "metadata": {},
     "output_type": "execute_result"
    }
   ],
   "source": [
    "max_hp_pokemon = pokemon_df[pokemon_df['HP'] == max_hp]\n",
    "max_hp_pokemon"
   ]
  },
  {
   "cell_type": "code",
   "execution_count": 19,
   "id": "6a80bfd1",
   "metadata": {},
   "outputs": [
    {
     "name": "stdout",
     "output_type": "stream",
     "text": [
      "💡 Użyj nawiasów kwadratowych [], a w nich spróbuj zapisać wyrażenie, które zwraca wartość logiczną True lub False: `pokemon_df[pokemon_df['HP'] == ...]`.\n",
      "✓ Wynik poprawny!\n"
     ]
    }
   ],
   "source": [
    "ans.zad_9(max_hp_pokemon, True)"
   ]
  },
  {
   "cell_type": "markdown",
   "id": "f40669f1",
   "metadata": {},
   "source": [
    "### X.\n",
    "Znajdź, jaka jest minimalna wartość w kolumnie `HP` w `pokemon_df`. Zapisz ją w zmiennej `min_hp` i wyświetl."
   ]
  },
  {
   "cell_type": "code",
   "execution_count": 20,
   "id": "3462de76",
   "metadata": {},
   "outputs": [
    {
     "data": {
      "text/plain": [
       "1"
      ]
     },
     "execution_count": 20,
     "metadata": {},
     "output_type": "execute_result"
    }
   ],
   "source": [
    "min_hp = pokemon_df['HP'].min()\n",
    "min_hp"
   ]
  },
  {
   "cell_type": "code",
   "execution_count": 21,
   "id": "86a75b4c",
   "metadata": {},
   "outputs": [
    {
     "name": "stdout",
     "output_type": "stream",
     "text": [
      "💡 Wybierz odpowiednią kolumnę i wykorzytaj funkcję min().\n",
      "✓ Wynik poprawny!\n"
     ]
    }
   ],
   "source": [
    "ans.zad_10(min_hp, True)"
   ]
  },
  {
   "cell_type": "markdown",
   "id": "a373c9f4",
   "metadata": {},
   "source": [
    "### XI.\n",
    "Wyświetl rekord (wiersz) z `pokemon_df` odpowiadający pokemonowi, który posiada najmniejszą wartość `HP`, a także zapisz ten rekord w zmiennej `min_hp_pokemon`. Wykorzystaj wynik z poprzedniego zadania."
   ]
  },
  {
   "cell_type": "code",
   "execution_count": 22,
   "id": "3b4330e6",
   "metadata": {},
   "outputs": [
    {
     "data": {
      "text/html": [
       "<div>\n",
       "<style scoped>\n",
       "    .dataframe tbody tr th:only-of-type {\n",
       "        vertical-align: middle;\n",
       "    }\n",
       "\n",
       "    .dataframe tbody tr th {\n",
       "        vertical-align: top;\n",
       "    }\n",
       "\n",
       "    .dataframe thead th {\n",
       "        text-align: right;\n",
       "    }\n",
       "</style>\n",
       "<table border=\"1\" class=\"dataframe\">\n",
       "  <thead>\n",
       "    <tr style=\"text-align: right;\">\n",
       "      <th></th>\n",
       "      <th>Name</th>\n",
       "      <th>Type 1</th>\n",
       "      <th>Type 2</th>\n",
       "      <th>Total</th>\n",
       "      <th>HP</th>\n",
       "      <th>Attack</th>\n",
       "      <th>Defense</th>\n",
       "      <th>Sp. Atk</th>\n",
       "      <th>Sp. Def</th>\n",
       "      <th>Speed</th>\n",
       "      <th>Generation</th>\n",
       "      <th>Legendary</th>\n",
       "    </tr>\n",
       "  </thead>\n",
       "  <tbody>\n",
       "    <tr>\n",
       "      <th>267</th>\n",
       "      <td>Shedinja</td>\n",
       "      <td>Bug</td>\n",
       "      <td>Ghost</td>\n",
       "      <td>236</td>\n",
       "      <td>1</td>\n",
       "      <td>90</td>\n",
       "      <td>45</td>\n",
       "      <td>30</td>\n",
       "      <td>30</td>\n",
       "      <td>40</td>\n",
       "      <td>3</td>\n",
       "      <td>False</td>\n",
       "    </tr>\n",
       "  </tbody>\n",
       "</table>\n",
       "</div>"
      ],
      "text/plain": [
       "         Name Type 1 Type 2  Total  HP  Attack  Defense  Sp. Atk  Sp. Def  \\\n",
       "267  Shedinja    Bug  Ghost    236   1      90       45       30       30   \n",
       "\n",
       "     Speed  Generation  Legendary  \n",
       "267     40           3      False  "
      ]
     },
     "execution_count": 22,
     "metadata": {},
     "output_type": "execute_result"
    }
   ],
   "source": [
    "min_hp_pokemon = pokemon_df[pokemon_df['HP'] == min_hp]\n",
    "min_hp_pokemon"
   ]
  },
  {
   "cell_type": "code",
   "execution_count": 23,
   "id": "f4a0601c",
   "metadata": {},
   "outputs": [
    {
     "name": "stdout",
     "output_type": "stream",
     "text": [
      "💡 Użyj nawiasów kwadratowych [], a w nich spróbuj zapisać wyrażenie, które zwraca wartość logiczną True lub False: `pokemon_df[pokemon_df['HP'] == ...]`.\n",
      "✓ Wynik poprawny!\n"
     ]
    }
   ],
   "source": [
    "ans.zad_11(min_hp_pokemon, True)"
   ]
  },
  {
   "cell_type": "markdown",
   "id": "f9cbf7c7",
   "metadata": {},
   "source": [
    "### XII.\n",
    "Stwórz kolumnę (obiekt pd.Series), która będzie posiadać stosunek `Attack` do `Defense` dla każdego pokemona w `pokemon_df`. Wynik zapisz do zmiennej `att_to_def_ratio` i wyświetl."
   ]
  },
  {
   "cell_type": "code",
   "execution_count": 24,
   "id": "cbbc7598",
   "metadata": {},
   "outputs": [
    {
     "data": {
      "text/plain": [
       "0      1.000000\n",
       "1      0.984127\n",
       "2      1.209302\n",
       "3      1.103448\n",
       "4      0.738462\n",
       "         ...   \n",
       "650    0.857143\n",
       "651    0.875000\n",
       "652    1.378947\n",
       "653    1.378947\n",
       "654    0.916667\n",
       "Length: 655, dtype: float64"
      ]
     },
     "execution_count": 24,
     "metadata": {},
     "output_type": "execute_result"
    }
   ],
   "source": [
    "att_to_def_ratio = pokemon_df['Attack']/pokemon_df['Defense']\n",
    "att_to_def_ratio"
   ]
  },
  {
   "cell_type": "code",
   "execution_count": 25,
   "id": "bd55b1ef",
   "metadata": {},
   "outputs": [
    {
     "name": "stdout",
     "output_type": "stream",
     "text": [
      "💡 Spróbuj wybrać 2 kolumny i zastosować odpowiedni operator.\n",
      "✓ Wynik poprawny!\n"
     ]
    }
   ],
   "source": [
    "ans.zad_12(att_to_def_ratio, True)"
   ]
  },
  {
   "cell_type": "markdown",
   "id": "63a490fb",
   "metadata": {},
   "source": [
    "### XIII.\n",
    "Znajdź, jaka jest maksymalna wartość w `att_to_def_ratio`, zapisz ją do zmiennej `max_att_def_ratio`, a następnie znajdź rekord z odpowiadającym tej wartości pokemonem w `pokemon_df`. Zapisz ten rekord do zmiennej `glass_cannon`."
   ]
  },
  {
   "cell_type": "code",
   "execution_count": 26,
   "id": "c8a47f4e",
   "metadata": {},
   "outputs": [
    {
     "data": {
      "text/plain": [
       "Name          Carvanha\n",
       "Type 1           Water\n",
       "Type 2            Dark\n",
       "Total              305\n",
       "HP                  45\n",
       "Attack              90\n",
       "Defense             20\n",
       "Sp. Atk             65\n",
       "Sp. Def             20\n",
       "Speed               65\n",
       "Generation           3\n",
       "Legendary        False\n",
       "Name: 288, dtype: object"
      ]
     },
     "execution_count": 26,
     "metadata": {},
     "output_type": "execute_result"
    }
   ],
   "source": [
    "max_att_def_ratio = att_to_def_ratio.max()\n",
    "idx = att_to_def_ratio[att_to_def_ratio == max_att_def_ratio].index[0]\n",
    "glass_cannon = pokemon_df.iloc[idx]\n",
    "glass_cannon"
   ]
  },
  {
   "cell_type": "code",
   "execution_count": 27,
   "id": "6e356ef2",
   "metadata": {},
   "outputs": [
    {
     "name": "stdout",
     "output_type": "stream",
     "text": [
      "💡 Spróbuj znaleźć indeks maksymalnej wartości korzystając ze zmiennej z poprzedniego zadania. Następnie użyj tego indeksu korzystając z `iloc`.\n",
      "✓ Wynik poprawny!\n"
     ]
    }
   ],
   "source": [
    "ans.zad_13(glass_cannon, True)"
   ]
  },
  {
   "cell_type": "markdown",
   "id": "7467d080",
   "metadata": {},
   "source": [
    "### XIV.\n",
    "Stwórz tabelę (DataFrame) zawierający wszystkie pokemony z `pokemon_df`, których `Type 2` to ***Fighting*** i których `Speed` jest **większy niż 50**. Zapisz ją do zmiennej `filtered_pokemons` i wyświetl."
   ]
  },
  {
   "cell_type": "code",
   "execution_count": 28,
   "id": "9dae7c58",
   "metadata": {},
   "outputs": [
    {
     "data": {
      "text/html": [
       "<div>\n",
       "<style scoped>\n",
       "    .dataframe tbody tr th:only-of-type {\n",
       "        vertical-align: middle;\n",
       "    }\n",
       "\n",
       "    .dataframe tbody tr th {\n",
       "        vertical-align: top;\n",
       "    }\n",
       "\n",
       "    .dataframe thead th {\n",
       "        text-align: right;\n",
       "    }\n",
       "</style>\n",
       "<table border=\"1\" class=\"dataframe\">\n",
       "  <thead>\n",
       "    <tr style=\"text-align: right;\">\n",
       "      <th></th>\n",
       "      <th>Name</th>\n",
       "      <th>Type 1</th>\n",
       "      <th>Type 2</th>\n",
       "      <th>Total</th>\n",
       "      <th>HP</th>\n",
       "      <th>Attack</th>\n",
       "      <th>Defense</th>\n",
       "      <th>Sp. Atk</th>\n",
       "      <th>Sp. Def</th>\n",
       "      <th>Speed</th>\n",
       "      <th>Generation</th>\n",
       "      <th>Legendary</th>\n",
       "    </tr>\n",
       "  </thead>\n",
       "  <tbody>\n",
       "    <tr>\n",
       "      <th>56</th>\n",
       "      <td>Poliwrath</td>\n",
       "      <td>Water</td>\n",
       "      <td>Fighting</td>\n",
       "      <td>510</td>\n",
       "      <td>90</td>\n",
       "      <td>95</td>\n",
       "      <td>95</td>\n",
       "      <td>70</td>\n",
       "      <td>90</td>\n",
       "      <td>70</td>\n",
       "      <td>1</td>\n",
       "      <td>False</td>\n",
       "    </tr>\n",
       "    <tr>\n",
       "      <th>234</th>\n",
       "      <td>Combusken</td>\n",
       "      <td>Fire</td>\n",
       "      <td>Fighting</td>\n",
       "      <td>405</td>\n",
       "      <td>60</td>\n",
       "      <td>85</td>\n",
       "      <td>60</td>\n",
       "      <td>85</td>\n",
       "      <td>60</td>\n",
       "      <td>55</td>\n",
       "      <td>3</td>\n",
       "      <td>False</td>\n",
       "    </tr>\n",
       "    <tr>\n",
       "      <th>261</th>\n",
       "      <td>Breloom</td>\n",
       "      <td>Grass</td>\n",
       "      <td>Fighting</td>\n",
       "      <td>460</td>\n",
       "      <td>60</td>\n",
       "      <td>130</td>\n",
       "      <td>80</td>\n",
       "      <td>60</td>\n",
       "      <td>60</td>\n",
       "      <td>70</td>\n",
       "      <td>3</td>\n",
       "      <td>False</td>\n",
       "    </tr>\n",
       "    <tr>\n",
       "      <th>347</th>\n",
       "      <td>Monferno</td>\n",
       "      <td>Fire</td>\n",
       "      <td>Fighting</td>\n",
       "      <td>405</td>\n",
       "      <td>64</td>\n",
       "      <td>78</td>\n",
       "      <td>52</td>\n",
       "      <td>78</td>\n",
       "      <td>52</td>\n",
       "      <td>81</td>\n",
       "      <td>4</td>\n",
       "      <td>False</td>\n",
       "    </tr>\n",
       "    <tr>\n",
       "      <th>348</th>\n",
       "      <td>Infernape</td>\n",
       "      <td>Fire</td>\n",
       "      <td>Fighting</td>\n",
       "      <td>534</td>\n",
       "      <td>76</td>\n",
       "      <td>104</td>\n",
       "      <td>71</td>\n",
       "      <td>104</td>\n",
       "      <td>71</td>\n",
       "      <td>108</td>\n",
       "      <td>4</td>\n",
       "      <td>False</td>\n",
       "    </tr>\n",
       "    <tr>\n",
       "      <th>405</th>\n",
       "      <td>Toxicroak</td>\n",
       "      <td>Poison</td>\n",
       "      <td>Fighting</td>\n",
       "      <td>490</td>\n",
       "      <td>83</td>\n",
       "      <td>106</td>\n",
       "      <td>65</td>\n",
       "      <td>86</td>\n",
       "      <td>65</td>\n",
       "      <td>85</td>\n",
       "      <td>4</td>\n",
       "      <td>False</td>\n",
       "    </tr>\n",
       "    <tr>\n",
       "      <th>445</th>\n",
       "      <td>Pignite</td>\n",
       "      <td>Fire</td>\n",
       "      <td>Fighting</td>\n",
       "      <td>418</td>\n",
       "      <td>90</td>\n",
       "      <td>93</td>\n",
       "      <td>55</td>\n",
       "      <td>70</td>\n",
       "      <td>55</td>\n",
       "      <td>55</td>\n",
       "      <td>5</td>\n",
       "      <td>False</td>\n",
       "    </tr>\n",
       "    <tr>\n",
       "      <th>446</th>\n",
       "      <td>Emboar</td>\n",
       "      <td>Fire</td>\n",
       "      <td>Fighting</td>\n",
       "      <td>528</td>\n",
       "      <td>110</td>\n",
       "      <td>123</td>\n",
       "      <td>65</td>\n",
       "      <td>100</td>\n",
       "      <td>65</td>\n",
       "      <td>65</td>\n",
       "      <td>5</td>\n",
       "      <td>False</td>\n",
       "    </tr>\n",
       "    <tr>\n",
       "      <th>504</th>\n",
       "      <td>Scrafty</td>\n",
       "      <td>Dark</td>\n",
       "      <td>Fighting</td>\n",
       "      <td>488</td>\n",
       "      <td>65</td>\n",
       "      <td>90</td>\n",
       "      <td>115</td>\n",
       "      <td>45</td>\n",
       "      <td>115</td>\n",
       "      <td>58</td>\n",
       "      <td>5</td>\n",
       "      <td>False</td>\n",
       "    </tr>\n",
       "    <tr>\n",
       "      <th>582</th>\n",
       "      <td>Cobalion</td>\n",
       "      <td>Steel</td>\n",
       "      <td>Fighting</td>\n",
       "      <td>580</td>\n",
       "      <td>91</td>\n",
       "      <td>90</td>\n",
       "      <td>129</td>\n",
       "      <td>90</td>\n",
       "      <td>72</td>\n",
       "      <td>108</td>\n",
       "      <td>5</td>\n",
       "      <td>True</td>\n",
       "    </tr>\n",
       "    <tr>\n",
       "      <th>583</th>\n",
       "      <td>Terrakion</td>\n",
       "      <td>Rock</td>\n",
       "      <td>Fighting</td>\n",
       "      <td>580</td>\n",
       "      <td>91</td>\n",
       "      <td>129</td>\n",
       "      <td>90</td>\n",
       "      <td>72</td>\n",
       "      <td>90</td>\n",
       "      <td>108</td>\n",
       "      <td>5</td>\n",
       "      <td>True</td>\n",
       "    </tr>\n",
       "    <tr>\n",
       "      <th>584</th>\n",
       "      <td>Virizion</td>\n",
       "      <td>Grass</td>\n",
       "      <td>Fighting</td>\n",
       "      <td>580</td>\n",
       "      <td>91</td>\n",
       "      <td>90</td>\n",
       "      <td>72</td>\n",
       "      <td>90</td>\n",
       "      <td>129</td>\n",
       "      <td>108</td>\n",
       "      <td>5</td>\n",
       "      <td>True</td>\n",
       "    </tr>\n",
       "    <tr>\n",
       "      <th>590</th>\n",
       "      <td>Chesnaught</td>\n",
       "      <td>Grass</td>\n",
       "      <td>Fighting</td>\n",
       "      <td>530</td>\n",
       "      <td>88</td>\n",
       "      <td>107</td>\n",
       "      <td>122</td>\n",
       "      <td>74</td>\n",
       "      <td>75</td>\n",
       "      <td>64</td>\n",
       "      <td>6</td>\n",
       "      <td>False</td>\n",
       "    </tr>\n",
       "  </tbody>\n",
       "</table>\n",
       "</div>"
      ],
      "text/plain": [
       "           Name  Type 1    Type 2  Total   HP  Attack  Defense  Sp. Atk  \\\n",
       "56    Poliwrath   Water  Fighting    510   90      95       95       70   \n",
       "234   Combusken    Fire  Fighting    405   60      85       60       85   \n",
       "261     Breloom   Grass  Fighting    460   60     130       80       60   \n",
       "347    Monferno    Fire  Fighting    405   64      78       52       78   \n",
       "348   Infernape    Fire  Fighting    534   76     104       71      104   \n",
       "405   Toxicroak  Poison  Fighting    490   83     106       65       86   \n",
       "445     Pignite    Fire  Fighting    418   90      93       55       70   \n",
       "446      Emboar    Fire  Fighting    528  110     123       65      100   \n",
       "504     Scrafty    Dark  Fighting    488   65      90      115       45   \n",
       "582    Cobalion   Steel  Fighting    580   91      90      129       90   \n",
       "583   Terrakion    Rock  Fighting    580   91     129       90       72   \n",
       "584    Virizion   Grass  Fighting    580   91      90       72       90   \n",
       "590  Chesnaught   Grass  Fighting    530   88     107      122       74   \n",
       "\n",
       "     Sp. Def  Speed  Generation  Legendary  \n",
       "56        90     70           1      False  \n",
       "234       60     55           3      False  \n",
       "261       60     70           3      False  \n",
       "347       52     81           4      False  \n",
       "348       71    108           4      False  \n",
       "405       65     85           4      False  \n",
       "445       55     55           5      False  \n",
       "446       65     65           5      False  \n",
       "504      115     58           5      False  \n",
       "582       72    108           5       True  \n",
       "583       90    108           5       True  \n",
       "584      129    108           5       True  \n",
       "590       75     64           6      False  "
      ]
     },
     "execution_count": 28,
     "metadata": {},
     "output_type": "execute_result"
    }
   ],
   "source": [
    "filtered_pokemons = pokemon_df[\n",
    "    (pokemon_df['Type 2'] == 'Fighting') &\n",
    "    (pokemon_df['Speed'] > 50)\n",
    "]\n",
    "\n",
    "filtered_pokemons"
   ]
  },
  {
   "cell_type": "code",
   "execution_count": 29,
   "id": "b190cd0a",
   "metadata": {},
   "outputs": [
    {
     "name": "stdout",
     "output_type": "stream",
     "text": [
      "💡 Wykorzystaj filtrowanie DataFrame'u przez połączenie kilku warunków znakiem `&`. Pamiętaj też o nawiasach między warunkami.\n",
      "✓ Wynik poprawny!\n"
     ]
    }
   ],
   "source": [
    "ans.zad_14(filtered_pokemons, True)"
   ]
  },
  {
   "cell_type": "markdown",
   "id": "be97bcf1",
   "metadata": {},
   "source": [
    "### XV. (UPEL - Zadanie 2)\n",
    "W `pokemon_df` znajdź rekord (wiersz) pokemona, który:\n",
    "* Jest **legendarny** (`Legendary` ma wartość True).\n",
    "* Jego `Type 1` to ***Steel***.\n",
    "* Jego `Generation` jest **większy niż 3**.\n",
    "* Jego `Speed` jest **większy niż 100**.\n",
    "\n",
    "Zapisz ten wiersz do zmiennej `legendary_pokemon` i wyświetl go. Na UPEL prześlij **nazwę** tego pokemona."
   ]
  },
  {
   "cell_type": "code",
   "execution_count": 30,
   "id": "c5596111",
   "metadata": {},
   "outputs": [
    {
     "data": {
      "text/html": [
       "<div>\n",
       "<style scoped>\n",
       "    .dataframe tbody tr th:only-of-type {\n",
       "        vertical-align: middle;\n",
       "    }\n",
       "\n",
       "    .dataframe tbody tr th {\n",
       "        vertical-align: top;\n",
       "    }\n",
       "\n",
       "    .dataframe thead th {\n",
       "        text-align: right;\n",
       "    }\n",
       "</style>\n",
       "<table border=\"1\" class=\"dataframe\">\n",
       "  <thead>\n",
       "    <tr style=\"text-align: right;\">\n",
       "      <th></th>\n",
       "      <th>Name</th>\n",
       "      <th>Type 1</th>\n",
       "      <th>Type 2</th>\n",
       "      <th>Total</th>\n",
       "      <th>HP</th>\n",
       "      <th>Attack</th>\n",
       "      <th>Defense</th>\n",
       "      <th>Sp. Atk</th>\n",
       "      <th>Sp. Def</th>\n",
       "      <th>Speed</th>\n",
       "      <th>Generation</th>\n",
       "      <th>Legendary</th>\n",
       "    </tr>\n",
       "  </thead>\n",
       "  <tbody>\n",
       "    <tr>\n",
       "      <th>582</th>\n",
       "      <td>Cobalion</td>\n",
       "      <td>Steel</td>\n",
       "      <td>Fighting</td>\n",
       "      <td>580</td>\n",
       "      <td>91</td>\n",
       "      <td>90</td>\n",
       "      <td>129</td>\n",
       "      <td>90</td>\n",
       "      <td>72</td>\n",
       "      <td>108</td>\n",
       "      <td>5</td>\n",
       "      <td>True</td>\n",
       "    </tr>\n",
       "  </tbody>\n",
       "</table>\n",
       "</div>"
      ],
      "text/plain": [
       "         Name Type 1    Type 2  Total  HP  Attack  Defense  Sp. Atk  Sp. Def  \\\n",
       "582  Cobalion  Steel  Fighting    580  91      90      129       90       72   \n",
       "\n",
       "     Speed  Generation  Legendary  \n",
       "582    108           5       True  "
      ]
     },
     "execution_count": 30,
     "metadata": {},
     "output_type": "execute_result"
    }
   ],
   "source": [
    "legendary_pokemon = pokemon_df[\n",
    "    (pokemon_df['Legendary'] == True) &\n",
    "    (pokemon_df['Type 1'] == 'Steel') &\n",
    "    (pokemon_df['Generation'] > 3) &\n",
    "    (pokemon_df['Speed'] > 100)\n",
    "]\n",
    "\n",
    "legendary_pokemon"
   ]
  },
  {
   "cell_type": "markdown",
   "id": "f938dfe3",
   "metadata": {},
   "source": [
    "### XVI.\n",
    "Jakie to pokemony, których suma wszystkich atrybutów (`Total`) wynosi **420** i jednocześnie są smokami (`Type 1` to ***Dragon***)? Odpowiadające im rekordy w `pokemon_df` zapisz w zmiennej `dragons_420` i wyświetl."
   ]
  },
  {
   "cell_type": "code",
   "execution_count": 31,
   "id": "864eb014",
   "metadata": {},
   "outputs": [
    {
     "data": {
      "text/html": [
       "<div>\n",
       "<style scoped>\n",
       "    .dataframe tbody tr th:only-of-type {\n",
       "        vertical-align: middle;\n",
       "    }\n",
       "\n",
       "    .dataframe tbody tr th {\n",
       "        vertical-align: top;\n",
       "    }\n",
       "\n",
       "    .dataframe thead th {\n",
       "        text-align: right;\n",
       "    }\n",
       "</style>\n",
       "<table border=\"1\" class=\"dataframe\">\n",
       "  <thead>\n",
       "    <tr style=\"text-align: right;\">\n",
       "      <th></th>\n",
       "      <th>Name</th>\n",
       "      <th>Type 1</th>\n",
       "      <th>Type 2</th>\n",
       "      <th>Total</th>\n",
       "      <th>HP</th>\n",
       "      <th>Attack</th>\n",
       "      <th>Defense</th>\n",
       "      <th>Sp. Atk</th>\n",
       "      <th>Sp. Def</th>\n",
       "      <th>Speed</th>\n",
       "      <th>Generation</th>\n",
       "      <th>Legendary</th>\n",
       "    </tr>\n",
       "  </thead>\n",
       "  <tbody>\n",
       "    <tr>\n",
       "      <th>134</th>\n",
       "      <td>Dragonair</td>\n",
       "      <td>Dragon</td>\n",
       "      <td>NaN</td>\n",
       "      <td>420</td>\n",
       "      <td>61</td>\n",
       "      <td>84</td>\n",
       "      <td>65</td>\n",
       "      <td>70</td>\n",
       "      <td>70</td>\n",
       "      <td>70</td>\n",
       "      <td>1</td>\n",
       "      <td>False</td>\n",
       "    </tr>\n",
       "    <tr>\n",
       "      <th>336</th>\n",
       "      <td>Shelgon</td>\n",
       "      <td>Dragon</td>\n",
       "      <td>NaN</td>\n",
       "      <td>420</td>\n",
       "      <td>65</td>\n",
       "      <td>95</td>\n",
       "      <td>100</td>\n",
       "      <td>60</td>\n",
       "      <td>50</td>\n",
       "      <td>50</td>\n",
       "      <td>3</td>\n",
       "      <td>False</td>\n",
       "    </tr>\n",
       "  </tbody>\n",
       "</table>\n",
       "</div>"
      ],
      "text/plain": [
       "          Name  Type 1 Type 2  Total  HP  Attack  Defense  Sp. Atk  Sp. Def  \\\n",
       "134  Dragonair  Dragon    NaN    420  61      84       65       70       70   \n",
       "336    Shelgon  Dragon    NaN    420  65      95      100       60       50   \n",
       "\n",
       "     Speed  Generation  Legendary  \n",
       "134     70           1      False  \n",
       "336     50           3      False  "
      ]
     },
     "execution_count": 31,
     "metadata": {},
     "output_type": "execute_result"
    }
   ],
   "source": [
    "dragons_420 = pokemon_df[\n",
    "    (pokemon_df['Total'] == 420) &\n",
    "    (pokemon_df['Type 1'] == 'Dragon')\n",
    "]\n",
    "\n",
    "dragons_420"
   ]
  },
  {
   "cell_type": "code",
   "execution_count": 32,
   "id": "e0a792a8",
   "metadata": {},
   "outputs": [
    {
     "name": "stdout",
     "output_type": "stream",
     "text": [
      "💡 Wykorzystaj filtrowanie DataFrame'u przez połączenie kilku warunków znakiem `&`. Pamiętaj też o nawiasach między warunkami.\n",
      "✓ Wynik poprawny!\n"
     ]
    }
   ],
   "source": [
    "ans.zad_16(dragons_420, True)"
   ]
  },
  {
   "cell_type": "markdown",
   "id": "e0132a64",
   "metadata": {},
   "source": [
    "### XVII.\n",
    "Spośród pokemonów w `pokemon_df`, których głównym typem jest ogień (`Type 1` to ***Fire***), znajdź tego, który ma największą wartość `Defense`. Odpowiedź zapisz w zmiennej `fire_tank` i wyświetl."
   ]
  },
  {
   "cell_type": "code",
   "execution_count": 33,
   "id": "1ec9d6f9",
   "metadata": {},
   "outputs": [
    {
     "data": {
      "text/html": [
       "<div>\n",
       "<style scoped>\n",
       "    .dataframe tbody tr th:only-of-type {\n",
       "        vertical-align: middle;\n",
       "    }\n",
       "\n",
       "    .dataframe tbody tr th {\n",
       "        vertical-align: top;\n",
       "    }\n",
       "\n",
       "    .dataframe thead th {\n",
       "        text-align: right;\n",
       "    }\n",
       "</style>\n",
       "<table border=\"1\" class=\"dataframe\">\n",
       "  <thead>\n",
       "    <tr style=\"text-align: right;\">\n",
       "      <th></th>\n",
       "      <th>Name</th>\n",
       "      <th>Type 1</th>\n",
       "      <th>Type 2</th>\n",
       "      <th>Total</th>\n",
       "      <th>HP</th>\n",
       "      <th>Attack</th>\n",
       "      <th>Defense</th>\n",
       "      <th>Sp. Atk</th>\n",
       "      <th>Sp. Def</th>\n",
       "      <th>Speed</th>\n",
       "      <th>Generation</th>\n",
       "      <th>Legendary</th>\n",
       "    </tr>\n",
       "  </thead>\n",
       "  <tbody>\n",
       "    <tr>\n",
       "      <th>292</th>\n",
       "      <td>Torkoal</td>\n",
       "      <td>Fire</td>\n",
       "      <td>NaN</td>\n",
       "      <td>470</td>\n",
       "      <td>70</td>\n",
       "      <td>85</td>\n",
       "      <td>140</td>\n",
       "      <td>85</td>\n",
       "      <td>70</td>\n",
       "      <td>20</td>\n",
       "      <td>3</td>\n",
       "      <td>False</td>\n",
       "    </tr>\n",
       "  </tbody>\n",
       "</table>\n",
       "</div>"
      ],
      "text/plain": [
       "        Name Type 1 Type 2  Total  HP  Attack  Defense  Sp. Atk  Sp. Def  \\\n",
       "292  Torkoal   Fire    NaN    470  70      85      140       85       70   \n",
       "\n",
       "     Speed  Generation  Legendary  \n",
       "292     20           3      False  "
      ]
     },
     "execution_count": 33,
     "metadata": {},
     "output_type": "execute_result"
    }
   ],
   "source": [
    "fire_tank = pokemon_df[pokemon_df['Type 1'] == 'Fire'].sort_values(by=['Defense'], ascending=False).head(1)\n",
    "fire_tank"
   ]
  },
  {
   "cell_type": "code",
   "execution_count": 34,
   "id": "c71f9e07",
   "metadata": {},
   "outputs": [
    {
     "name": "stdout",
     "output_type": "stream",
     "text": [
      "💡 Użyj filtrowania, a potem spróbuj posortować obiekt i w ten sposób wybrać odpowiedniego pokemona z pomocą funkcji `head()`.\n",
      "✓ Wynik poprawny!\n"
     ]
    }
   ],
   "source": [
    "ans.zad_17(fire_tank, True)"
   ]
  },
  {
   "cell_type": "markdown",
   "id": "5ede8c7e",
   "metadata": {},
   "source": [
    "### XVIII.\n",
    "Znajdź, jaki jest najczęściej występujący główny typ (`Type 1`) wśród pokemonów legendarnych. Odpowiedź jako **string** zapisz w zmiennej `most_common_legend_type`. W przypadku remisu decyduje kolejność alfabetyczna."
   ]
  },
  {
   "cell_type": "code",
   "execution_count": 35,
   "id": "bb7d042c",
   "metadata": {},
   "outputs": [
    {
     "data": {
      "text/plain": [
       "Type 1\n",
       "Fire        5\n",
       "Psychic     5\n",
       "Steel       4\n",
       "Ice         2\n",
       "Electric    2\n",
       "Water       2\n",
       "Rock        2\n",
       "Normal      2\n",
       "Dark        2\n",
       "Dragon      2\n",
       "Grass       1\n",
       "Fairy       1\n",
       "Name: count, dtype: int64"
      ]
     },
     "execution_count": 35,
     "metadata": {},
     "output_type": "execute_result"
    }
   ],
   "source": [
    "pokemon_df[pokemon_df['Legendary'] == True]['Type 1'].value_counts()"
   ]
  },
  {
   "cell_type": "code",
   "execution_count": 36,
   "id": "6cd1addd",
   "metadata": {},
   "outputs": [],
   "source": [
    "most_common_legend_type = 'Fire'"
   ]
  },
  {
   "cell_type": "code",
   "execution_count": 37,
   "id": "6bca2f7d",
   "metadata": {},
   "outputs": [
    {
     "name": "stdout",
     "output_type": "stream",
     "text": [
      "💡 Spróbuj wykorzystać filtrowanie i funkcję `value_counts()`.\n",
      "✓ Wynik poprawny!\n"
     ]
    }
   ],
   "source": [
    "ans.zad_18(most_common_legend_type, True)"
   ]
  },
  {
   "cell_type": "markdown",
   "id": "fcbb1d1f",
   "metadata": {},
   "source": [
    "### XIX.\n",
    "Stwórz histogram przedstawiający rozkład wartości w kolumnie `HP`."
   ]
  },
  {
   "cell_type": "code",
   "execution_count": 38,
   "id": "955b52ae",
   "metadata": {},
   "outputs": [
    {
     "data": {
      "text/plain": [
       "<Axes: >"
      ]
     },
     "execution_count": 38,
     "metadata": {},
     "output_type": "execute_result"
    },
    {
     "data": {
      "image/png": "[encoded data removed]",
      "text/plain": [
       "<Figure size 640x480 with 1 Axes>"
      ]
     },
     "metadata": {},
     "output_type": "display_data"
    }
   ],
   "source": [
    "pokemon_df['HP'].hist()"
   ]
  },
  {
   "cell_type": "markdown",
   "id": "5c751c4d",
   "metadata": {},
   "source": [
    "### XX.\n",
    "Stwórz obiekt *pd.Series*, który będzie zawierał informacje o tym, ile pokemonów należy do poszczególnych generacji (`Generation`). Zapisz go do zmiennej `generations` i wyświetl."
   ]
  },
  {
   "cell_type": "code",
   "execution_count": 39,
   "id": "e08ea7dc",
   "metadata": {},
   "outputs": [
    {
     "data": {
      "text/plain": [
       "Generation\n",
       "5    148\n",
       "1    137\n",
       "3    112\n",
       "4     97\n",
       "2     94\n",
       "6     67\n",
       "Name: count, dtype: int64"
      ]
     },
     "execution_count": 39,
     "metadata": {},
     "output_type": "execute_result"
    }
   ],
   "source": [
    "generations = pokemon_df['Generation'].value_counts()\n",
    "generations"
   ]
  },
  {
   "cell_type": "code",
   "execution_count": 40,
   "id": "e2d79d89",
   "metadata": {},
   "outputs": [
    {
     "name": "stdout",
     "output_type": "stream",
     "text": [
      "💡 Wykorzystaj funkcję `value_counts()` na odpowiedniej kolumnie.\n",
      "✓ Wynik poprawny!\n"
     ]
    }
   ],
   "source": [
    "ans.zad_20(generations, True)"
   ]
  },
  {
   "cell_type": "markdown",
   "id": "8d1bf0c4",
   "metadata": {},
   "source": [
    "### XXI. (UPEL - Zadanie 3)\n",
    "Bazując na wyniku z poprzedniego zadania (zmienna `generations`), utwórz **procentowy** wykres kołowy wizualizujący informacje przedstawione w tej zmiennej. Wykres powinien zawierać **tytuł** i być czytelny."
   ]
  },
  {
   "cell_type": "code",
   "execution_count": 41,
   "id": "f8ae8615",
   "metadata": {},
   "outputs": [
    {
     "data": {
      "text/plain": [
       "<Axes: title={'center': 'Liczebność pokemonów w poszczególnych generacjach'}, ylabel='count'>"
      ]
     },
     "execution_count": 41,
     "metadata": {},
     "output_type": "execute_result"
    },
    {
     "data": {
      "image/png": "[encoded data removed]",
      "text/plain": [
       "<Figure size 640x480 with 1 Axes>"
      ]
     },
     "metadata": {},
     "output_type": "display_data"
    }
   ],
   "source": [
    "generations.plot(kind='pie',\n",
    "                 title='Liczebność pokemonów w poszczególnych generacjach', \n",
    "                 autopct='%.2f%%')"
   ]
  },
  {
   "cell_type": "markdown",
   "id": "83bf84ef",
   "metadata": {},
   "source": [
    "### XXII. (UPEL - Zadanie 4)\n",
    "Stwórz wykres typu **scatter** przedstawiający `Attack` i `Defence` pokemonów latających (`Type 1` lub `Type 2` to ***Flying***). Wykres powinien zawierać:\n",
    "* Odpowiedni **tytuł**.\n",
    "* Oś **X** ma przedstawiać wartości z kolumny `Defense` i mieć odpowiednie oznaczenie (label).\n",
    "* Oś **Y** ma przedstawiać wartości z kolumny `Attack` i mieć odpowiednie oznaczenie (label.\n",
    "* Wykres ma mieć **grid** (siatkę).\n",
    "\n",
    "Zacznij od zapisania wszystkich pokemonów latających do zmiennej `flying_pokemons`."
   ]
  },
  {
   "cell_type": "code",
   "execution_count": 42,
   "id": "49274c79",
   "metadata": {},
   "outputs": [
    {
     "data": {
      "text/html": [
       "<div>\n",
       "<style scoped>\n",
       "    .dataframe tbody tr th:only-of-type {\n",
       "        vertical-align: middle;\n",
       "    }\n",
       "\n",
       "    .dataframe tbody tr th {\n",
       "        vertical-align: top;\n",
       "    }\n",
       "\n",
       "    .dataframe thead th {\n",
       "        text-align: right;\n",
       "    }\n",
       "</style>\n",
       "<table border=\"1\" class=\"dataframe\">\n",
       "  <thead>\n",
       "    <tr style=\"text-align: right;\">\n",
       "      <th></th>\n",
       "      <th>Name</th>\n",
       "      <th>Type 1</th>\n",
       "      <th>Type 2</th>\n",
       "      <th>Total</th>\n",
       "      <th>HP</th>\n",
       "      <th>Attack</th>\n",
       "      <th>Defense</th>\n",
       "      <th>Sp. Atk</th>\n",
       "      <th>Sp. Def</th>\n",
       "      <th>Speed</th>\n",
       "      <th>Generation</th>\n",
       "      <th>Legendary</th>\n",
       "    </tr>\n",
       "  </thead>\n",
       "  <tbody>\n",
       "    <tr>\n",
       "      <th>8</th>\n",
       "      <td>Butterfree</td>\n",
       "      <td>Bug</td>\n",
       "      <td>Flying</td>\n",
       "      <td>395</td>\n",
       "      <td>60</td>\n",
       "      <td>45</td>\n",
       "      <td>50</td>\n",
       "      <td>90</td>\n",
       "      <td>80</td>\n",
       "      <td>70</td>\n",
       "      <td>1</td>\n",
       "      <td>False</td>\n",
       "    </tr>\n",
       "    <tr>\n",
       "      <th>11</th>\n",
       "      <td>Pidgey</td>\n",
       "      <td>Normal</td>\n",
       "      <td>Flying</td>\n",
       "      <td>251</td>\n",
       "      <td>40</td>\n",
       "      <td>45</td>\n",
       "      <td>40</td>\n",
       "      <td>35</td>\n",
       "      <td>35</td>\n",
       "      <td>56</td>\n",
       "      <td>1</td>\n",
       "      <td>False</td>\n",
       "    </tr>\n",
       "    <tr>\n",
       "      <th>12</th>\n",
       "      <td>Pidgeotto</td>\n",
       "      <td>Normal</td>\n",
       "      <td>Flying</td>\n",
       "      <td>349</td>\n",
       "      <td>63</td>\n",
       "      <td>60</td>\n",
       "      <td>55</td>\n",
       "      <td>50</td>\n",
       "      <td>50</td>\n",
       "      <td>71</td>\n",
       "      <td>1</td>\n",
       "      <td>False</td>\n",
       "    </tr>\n",
       "    <tr>\n",
       "      <th>15</th>\n",
       "      <td>Spearow</td>\n",
       "      <td>Normal</td>\n",
       "      <td>Flying</td>\n",
       "      <td>262</td>\n",
       "      <td>40</td>\n",
       "      <td>60</td>\n",
       "      <td>30</td>\n",
       "      <td>31</td>\n",
       "      <td>31</td>\n",
       "      <td>70</td>\n",
       "      <td>1</td>\n",
       "      <td>False</td>\n",
       "    </tr>\n",
       "    <tr>\n",
       "      <th>16</th>\n",
       "      <td>Fearow</td>\n",
       "      <td>Normal</td>\n",
       "      <td>Flying</td>\n",
       "      <td>442</td>\n",
       "      <td>65</td>\n",
       "      <td>90</td>\n",
       "      <td>65</td>\n",
       "      <td>61</td>\n",
       "      <td>61</td>\n",
       "      <td>100</td>\n",
       "      <td>1</td>\n",
       "      <td>False</td>\n",
       "    </tr>\n",
       "    <tr>\n",
       "      <th>...</th>\n",
       "      <td>...</td>\n",
       "      <td>...</td>\n",
       "      <td>...</td>\n",
       "      <td>...</td>\n",
       "      <td>...</td>\n",
       "      <td>...</td>\n",
       "      <td>...</td>\n",
       "      <td>...</td>\n",
       "      <td>...</td>\n",
       "      <td>...</td>\n",
       "      <td>...</td>\n",
       "      <td>...</td>\n",
       "    </tr>\n",
       "    <tr>\n",
       "      <th>604</th>\n",
       "      <td>Vivillon</td>\n",
       "      <td>Bug</td>\n",
       "      <td>Flying</td>\n",
       "      <td>411</td>\n",
       "      <td>80</td>\n",
       "      <td>52</td>\n",
       "      <td>50</td>\n",
       "      <td>90</td>\n",
       "      <td>50</td>\n",
       "      <td>89</td>\n",
       "      <td>6</td>\n",
       "      <td>False</td>\n",
       "    </tr>\n",
       "    <tr>\n",
       "      <th>639</th>\n",
       "      <td>Hawlucha</td>\n",
       "      <td>Fighting</td>\n",
       "      <td>Flying</td>\n",
       "      <td>500</td>\n",
       "      <td>78</td>\n",
       "      <td>92</td>\n",
       "      <td>75</td>\n",
       "      <td>74</td>\n",
       "      <td>63</td>\n",
       "      <td>118</td>\n",
       "      <td>6</td>\n",
       "      <td>False</td>\n",
       "    </tr>\n",
       "    <tr>\n",
       "      <th>650</th>\n",
       "      <td>Noibat</td>\n",
       "      <td>Flying</td>\n",
       "      <td>Dragon</td>\n",
       "      <td>245</td>\n",
       "      <td>40</td>\n",
       "      <td>30</td>\n",
       "      <td>35</td>\n",
       "      <td>45</td>\n",
       "      <td>40</td>\n",
       "      <td>55</td>\n",
       "      <td>6</td>\n",
       "      <td>False</td>\n",
       "    </tr>\n",
       "    <tr>\n",
       "      <th>651</th>\n",
       "      <td>Noivern</td>\n",
       "      <td>Flying</td>\n",
       "      <td>Dragon</td>\n",
       "      <td>535</td>\n",
       "      <td>85</td>\n",
       "      <td>70</td>\n",
       "      <td>80</td>\n",
       "      <td>97</td>\n",
       "      <td>80</td>\n",
       "      <td>123</td>\n",
       "      <td>6</td>\n",
       "      <td>False</td>\n",
       "    </tr>\n",
       "    <tr>\n",
       "      <th>653</th>\n",
       "      <td>Yveltal</td>\n",
       "      <td>Dark</td>\n",
       "      <td>Flying</td>\n",
       "      <td>680</td>\n",
       "      <td>126</td>\n",
       "      <td>131</td>\n",
       "      <td>95</td>\n",
       "      <td>131</td>\n",
       "      <td>98</td>\n",
       "      <td>99</td>\n",
       "      <td>6</td>\n",
       "      <td>True</td>\n",
       "    </tr>\n",
       "  </tbody>\n",
       "</table>\n",
       "<p>80 rows × 12 columns</p>\n",
       "</div>"
      ],
      "text/plain": [
       "           Name    Type 1  Type 2  Total   HP  Attack  Defense  Sp. Atk  \\\n",
       "8    Butterfree       Bug  Flying    395   60      45       50       90   \n",
       "11       Pidgey    Normal  Flying    251   40      45       40       35   \n",
       "12    Pidgeotto    Normal  Flying    349   63      60       55       50   \n",
       "15      Spearow    Normal  Flying    262   40      60       30       31   \n",
       "16       Fearow    Normal  Flying    442   65      90       65       61   \n",
       "..          ...       ...     ...    ...  ...     ...      ...      ...   \n",
       "604    Vivillon       Bug  Flying    411   80      52       50       90   \n",
       "639    Hawlucha  Fighting  Flying    500   78      92       75       74   \n",
       "650      Noibat    Flying  Dragon    245   40      30       35       45   \n",
       "651     Noivern    Flying  Dragon    535   85      70       80       97   \n",
       "653     Yveltal      Dark  Flying    680  126     131       95      131   \n",
       "\n",
       "     Sp. Def  Speed  Generation  Legendary  \n",
       "8         80     70           1      False  \n",
       "11        35     56           1      False  \n",
       "12        50     71           1      False  \n",
       "15        31     70           1      False  \n",
       "16        61    100           1      False  \n",
       "..       ...    ...         ...        ...  \n",
       "604       50     89           6      False  \n",
       "639       63    118           6      False  \n",
       "650       40     55           6      False  \n",
       "651       80    123           6      False  \n",
       "653       98     99           6       True  \n",
       "\n",
       "[80 rows x 12 columns]"
      ]
     },
     "execution_count": 42,
     "metadata": {},
     "output_type": "execute_result"
    }
   ],
   "source": [
    "flying_pokemons = pokemon_df[\n",
    "    (pokemon_df['Type 1'] == 'Flying') |\n",
    "    (pokemon_df['Type 2'] == 'Flying')\n",
    "]\n",
    "\n",
    "flying_pokemons"
   ]
  },
  {
   "cell_type": "code",
   "execution_count": 43,
   "id": "0e63d357",
   "metadata": {},
   "outputs": [
    {
     "data": {
      "text/plain": [
       "<Axes: title={'center': 'Obrona i atak latających pokemonów'}, xlabel='Defense', ylabel='Attack'>"
      ]
     },
     "execution_count": 43,
     "metadata": {},
     "output_type": "execute_result"
    },
    {
     "data": {
      "image/png": "[encoded data removed]",
      "text/plain": [
       "<Figure size 640x480 with 1 Axes>"
      ]
     },
     "metadata": {},
     "output_type": "display_data"
    }
   ],
   "source": [
    "flying_pokemons.plot(kind='scatter',\n",
    "                     title='Obrona i atak latających pokemonów',\n",
    "                     x=['Defense'],\n",
    "                     y=['Attack'],\n",
    "                     xlabel='Defense',\n",
    "                     ylabel='Attack',\n",
    "                     grid=True)"
   ]
  },
  {
   "cell_type": "markdown",
   "id": "35f9e0c2",
   "metadata": {},
   "source": [
    "### XXIII.\n",
    "Stwórz wykres **słupkowy** obrazujący, ile jest różnych typów pokemonów (kolumna `Type 1`). Wykres powinien mieć odpowiedni tytuł, a także mieć podpisane osie."
   ]
  },
  {
   "cell_type": "code",
   "execution_count": 51,
   "id": "83adec82",
   "metadata": {},
   "outputs": [
    {
     "data": {
      "text/plain": [
       "<Axes: title={'center': 'Ilość pokemonów o poszczególnych typach'}, xlabel='Liczba pokemonów', ylabel='Typ'>"
      ]
     },
     "execution_count": 51,
     "metadata": {},
     "output_type": "execute_result"
    },
    {
     "data": {
      "image/png": "[encoded data removed]",
      "text/plain": [
       "<Figure size 640x480 with 1 Axes>"
      ]
     },
     "metadata": {},
     "output_type": "display_data"
    }
   ],
   "source": [
    "pokemon_types = pokemon_df['Type 1'].value_counts()\n",
    "pokemon_types.plot(kind='barh',\n",
    "                   title='Ilość pokemonów o poszczególnych typach',\n",
    "                   xlabel='Liczba pokemonów',\n",
    "                   ylabel='Typ')"
   ]
  },
  {
   "cell_type": "code",
   "execution_count": null,
   "id": "ae65351f",
   "metadata": {},
   "outputs": [],
   "source": []
  }
 ],
 "metadata": {
  "kernelspec": {
   "display_name": "Python 3 (ipykernel)",
   "language": "python",
   "name": "python3"
  },
  "language_info": {
   "codemirror_mode": {
    "name": "ipython",
    "version": 3
   },
   "file_extension": ".py",
   "mimetype": "text/x-python",
   "name": "python",
   "nbconvert_exporter": "python",
   "pygments_lexer": "ipython3",
   "version": "3.10.13"
  }
 },
 "nbformat": 4,
 "nbformat_minor": 5
}
