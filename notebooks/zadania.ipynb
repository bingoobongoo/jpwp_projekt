{
 "cells": [
  {
   "cell_type": "markdown",
   "id": "48591090",
   "metadata": {},
   "source": [
    "# Analiza, inżynieria i wizualizacja danych z NumPy, Pandas i Matplotlib\n",
    "W tym notatnku znajdują się zadania części praktycznej prezentacji. Wykonanie zadań jest możliwe w Google Colab. Wszelkie potrzebne materiały można pobrać z repozytorium GitHub: https://github.com/bingoobongoo/jpwp_projekt. Odpowiedzi do niektórych zadań należy przesłać na platformę **UPEL**. Zadanie te będą specjalnie oznaczone, wystarczy skopiować wynik i przesłać w odpowiedniej zakładce. Rozwiązania zadań można znaleźć w pliku ***answers.py*** znajdującym się w folderze *notebooks*."
   ]
  },
  {
   "cell_type": "markdown",
   "id": "ab3f6dd5",
   "metadata": {},
   "source": [
    "Linki do dokumentacji modułów:\n",
    "\n",
    "* **Pandas**: https://pandas.pydata.org/docs/\n",
    "* **NumPy**: https://numpy.org/doc/stable/reference/index.html#reference\n",
    "* **Matplotlib**: https://matplotlib.org/stable/api/index"
   ]
  },
  {
   "cell_type": "markdown",
   "id": "a72532df",
   "metadata": {},
   "source": [
    "## Skróty klawiszowe\n",
    "Do sprawnej pracy w Google Colab warto korzystać z ułatwiających życie skrótów klawiszowych, najważniejsze z nich wymieniono poniżej:\n",
    "\n",
    "* `Ctrl + M + B` - dodanie nowej komórki poniżej aktualnie zaznaczonej\n",
    "* `Ctrl + M + A` - dodanie nowej komórki powyżej aktualnie zaznaczonej\n",
    "* `Ctrl + M + D` - usunięcie aktualnie zaznaczonej komórki\n",
    "* `Ctrl + Enter` - uruchomienie aktualnie zaznaczonej komórki\n",
    "* `Shift + Enter` - uruchomienie aktualnie zaznaczonej komórki i przejście do kolejnej\n",
    "* `Ctrl + M + M` - zmienienie aktualnie zaznaczonej komórki na komórkę tekstową (markdown)\n",
    "* `Ctrl + M + Y` - zmienienie aktualnie zaznaczonej komórki na komórkę kodu\n",
    "* `Ctrl + M + .` - ponowne uruchomienie sesji Google Colab"
   ]
  },
  {
   "cell_type": "markdown",
   "id": "3ce35116",
   "metadata": {},
   "source": [
    "## Możliwe do napotkania problemy\n",
    "Google Colab oferuje darmowe korzystanie z chmury, czyli mocy obliczeniowej zdalnego serwera. Czasem z różnych powodów połączenie z serwerem może zostać przerwane. W takim wypadku należy ponownie nawiązać połączenie z serwerem poprzez przycisk **połącz** albo **połącz ponownie**. Niezbędne będzie także ponowne przesłanie plików z danymi i odpowiedziami znajdującymi się w folderze *data*. Zmiany wprowadzone w notebooku zostaną niezmienione, trzeba będzie jedynie uruchomić od początku wszystkie komórki aż do tej, gdzie ostatnio skończyliśmy."
   ]
  },
  {
   "cell_type": "markdown",
   "id": "b5583595",
   "metadata": {},
   "source": [
    "## Sprawdzanie poprawności odpowiedzi\n",
    "Pod każdym zadaniem (z wyjątkiem zadań na UPEL) będzie funkcja sprawdzająca poprawność odpowiedzi. Obiekt zawierający odpowiedź do zadania należy zapisać do odpowiednio nazwanej zmiennej, a następnie uruchomić komórkę sprawdzającą. Opcjonalnie, jako drugi argument funkcji sprawdzającej można wpisać `True`, jeśli chcemy uzyskać podpowiedź do zadania."
   ]
  },
  {
   "cell_type": "markdown",
   "id": "86ed1599",
   "metadata": {},
   "source": [
    "# Zadania praktyczne\n",
    "Zacznijmy od zaimportowania odpowienich bibliotek oraz pierwszego zestawu danych. W przypadku błędu przy importowaniu plików **.csv** sprawdź, czy są one przesłane do odpowieniego folderu w Google Colab."
   ]
  },
  {
   "cell_type": "code",
   "execution_count": 1,
   "id": "ca94916d",
   "metadata": {},
   "outputs": [],
   "source": [
    "import numpy as np\n",
    "import pandas as pd\n",
    "import matplotlib.pyplot as plt\n",
    "import answers as ans"
   ]
  },
  {
   "cell_type": "code",
   "execution_count": 2,
   "id": "cef69a64",
   "metadata": {},
   "outputs": [],
   "source": [
    "pokemon_df = pd.read_csv('../data/pokemon.csv', index_col=0)"
   ]
  },
  {
   "cell_type": "markdown",
   "id": "b48774e9",
   "metadata": {},
   "source": [
    "### I.\n",
    "Zacznijmy od przyjrzenia się naszemu zestawowi danych. Wyświetl **10** pierwszych rzędów `pokemon_df` i zapisz je w zmiennej `first_ten`."
   ]
  },
  {
   "cell_type": "code",
   "execution_count": 3,
   "id": "88fde3fd",
   "metadata": {},
   "outputs": [
    {
     "data": {
      "text/html": [
       "<div>\n",
       "<style scoped>\n",
       "    .dataframe tbody tr th:only-of-type {\n",
       "        vertical-align: middle;\n",
       "    }\n",
       "\n",
       "    .dataframe tbody tr th {\n",
       "        vertical-align: top;\n",
       "    }\n",
       "\n",
       "    .dataframe thead th {\n",
       "        text-align: right;\n",
       "    }\n",
       "</style>\n",
       "<table border=\"1\" class=\"dataframe\">\n",
       "  <thead>\n",
       "    <tr style=\"text-align: right;\">\n",
       "      <th></th>\n",
       "      <th>Name</th>\n",
       "      <th>Type 1</th>\n",
       "      <th>Type 2</th>\n",
       "      <th>Total</th>\n",
       "      <th>HP</th>\n",
       "      <th>Attack</th>\n",
       "      <th>Defense</th>\n",
       "      <th>Sp. Atk</th>\n",
       "      <th>Sp. Def</th>\n",
       "      <th>Speed</th>\n",
       "      <th>Generation</th>\n",
       "      <th>Legendary</th>\n",
       "    </tr>\n",
       "  </thead>\n",
       "  <tbody>\n",
       "    <tr>\n",
       "      <th>0</th>\n",
       "      <td>Bulbasaur</td>\n",
       "      <td>Grass</td>\n",
       "      <td>Poison</td>\n",
       "      <td>318</td>\n",
       "      <td>45</td>\n",
       "      <td>49</td>\n",
       "      <td>49</td>\n",
       "      <td>65</td>\n",
       "      <td>65</td>\n",
       "      <td>45</td>\n",
       "      <td>1</td>\n",
       "      <td>False</td>\n",
       "    </tr>\n",
       "    <tr>\n",
       "      <th>1</th>\n",
       "      <td>Ivysaur</td>\n",
       "      <td>Grass</td>\n",
       "      <td>Poison</td>\n",
       "      <td>405</td>\n",
       "      <td>60</td>\n",
       "      <td>62</td>\n",
       "      <td>63</td>\n",
       "      <td>80</td>\n",
       "      <td>80</td>\n",
       "      <td>60</td>\n",
       "      <td>1</td>\n",
       "      <td>False</td>\n",
       "    </tr>\n",
       "    <tr>\n",
       "      <th>2</th>\n",
       "      <td>Charmander</td>\n",
       "      <td>Fire</td>\n",
       "      <td>NaN</td>\n",
       "      <td>309</td>\n",
       "      <td>39</td>\n",
       "      <td>52</td>\n",
       "      <td>43</td>\n",
       "      <td>60</td>\n",
       "      <td>50</td>\n",
       "      <td>65</td>\n",
       "      <td>1</td>\n",
       "      <td>False</td>\n",
       "    </tr>\n",
       "    <tr>\n",
       "      <th>3</th>\n",
       "      <td>Charmeleon</td>\n",
       "      <td>Fire</td>\n",
       "      <td>NaN</td>\n",
       "      <td>405</td>\n",
       "      <td>58</td>\n",
       "      <td>64</td>\n",
       "      <td>58</td>\n",
       "      <td>80</td>\n",
       "      <td>65</td>\n",
       "      <td>80</td>\n",
       "      <td>1</td>\n",
       "      <td>False</td>\n",
       "    </tr>\n",
       "    <tr>\n",
       "      <th>4</th>\n",
       "      <td>Squirtle</td>\n",
       "      <td>Water</td>\n",
       "      <td>NaN</td>\n",
       "      <td>314</td>\n",
       "      <td>44</td>\n",
       "      <td>48</td>\n",
       "      <td>65</td>\n",
       "      <td>50</td>\n",
       "      <td>64</td>\n",
       "      <td>43</td>\n",
       "      <td>1</td>\n",
       "      <td>False</td>\n",
       "    </tr>\n",
       "    <tr>\n",
       "      <th>5</th>\n",
       "      <td>Wartortle</td>\n",
       "      <td>Water</td>\n",
       "      <td>NaN</td>\n",
       "      <td>405</td>\n",
       "      <td>59</td>\n",
       "      <td>63</td>\n",
       "      <td>80</td>\n",
       "      <td>65</td>\n",
       "      <td>80</td>\n",
       "      <td>58</td>\n",
       "      <td>1</td>\n",
       "      <td>False</td>\n",
       "    </tr>\n",
       "    <tr>\n",
       "      <th>6</th>\n",
       "      <td>Caterpie</td>\n",
       "      <td>Bug</td>\n",
       "      <td>NaN</td>\n",
       "      <td>195</td>\n",
       "      <td>45</td>\n",
       "      <td>30</td>\n",
       "      <td>35</td>\n",
       "      <td>20</td>\n",
       "      <td>20</td>\n",
       "      <td>45</td>\n",
       "      <td>1</td>\n",
       "      <td>False</td>\n",
       "    </tr>\n",
       "    <tr>\n",
       "      <th>7</th>\n",
       "      <td>Metapod</td>\n",
       "      <td>Bug</td>\n",
       "      <td>NaN</td>\n",
       "      <td>205</td>\n",
       "      <td>50</td>\n",
       "      <td>20</td>\n",
       "      <td>55</td>\n",
       "      <td>25</td>\n",
       "      <td>25</td>\n",
       "      <td>30</td>\n",
       "      <td>1</td>\n",
       "      <td>False</td>\n",
       "    </tr>\n",
       "    <tr>\n",
       "      <th>8</th>\n",
       "      <td>Butterfree</td>\n",
       "      <td>Bug</td>\n",
       "      <td>Flying</td>\n",
       "      <td>395</td>\n",
       "      <td>60</td>\n",
       "      <td>45</td>\n",
       "      <td>50</td>\n",
       "      <td>90</td>\n",
       "      <td>80</td>\n",
       "      <td>70</td>\n",
       "      <td>1</td>\n",
       "      <td>False</td>\n",
       "    </tr>\n",
       "    <tr>\n",
       "      <th>9</th>\n",
       "      <td>Weedle</td>\n",
       "      <td>Bug</td>\n",
       "      <td>Poison</td>\n",
       "      <td>195</td>\n",
       "      <td>40</td>\n",
       "      <td>35</td>\n",
       "      <td>30</td>\n",
       "      <td>20</td>\n",
       "      <td>20</td>\n",
       "      <td>50</td>\n",
       "      <td>1</td>\n",
       "      <td>False</td>\n",
       "    </tr>\n",
       "  </tbody>\n",
       "</table>\n",
       "</div>"
      ],
      "text/plain": [
       "         Name Type 1  Type 2  Total  HP  Attack  Defense  Sp. Atk  Sp. Def  \\\n",
       "0   Bulbasaur  Grass  Poison    318  45      49       49       65       65   \n",
       "1     Ivysaur  Grass  Poison    405  60      62       63       80       80   \n",
       "2  Charmander   Fire     NaN    309  39      52       43       60       50   \n",
       "3  Charmeleon   Fire     NaN    405  58      64       58       80       65   \n",
       "4    Squirtle  Water     NaN    314  44      48       65       50       64   \n",
       "5   Wartortle  Water     NaN    405  59      63       80       65       80   \n",
       "6    Caterpie    Bug     NaN    195  45      30       35       20       20   \n",
       "7     Metapod    Bug     NaN    205  50      20       55       25       25   \n",
       "8  Butterfree    Bug  Flying    395  60      45       50       90       80   \n",
       "9      Weedle    Bug  Poison    195  40      35       30       20       20   \n",
       "\n",
       "   Speed  Generation  Legendary  \n",
       "0     45           1      False  \n",
       "1     60           1      False  \n",
       "2     65           1      False  \n",
       "3     80           1      False  \n",
       "4     43           1      False  \n",
       "5     58           1      False  \n",
       "6     45           1      False  \n",
       "7     30           1      False  \n",
       "8     70           1      False  \n",
       "9     50           1      False  "
      ]
     },
     "execution_count": 3,
     "metadata": {},
     "output_type": "execute_result"
    }
   ],
   "source": [
    "first_ten = pokemon_df.head(10)\n",
    "first_ten"
   ]
  },
  {
   "cell_type": "code",
   "execution_count": 4,
   "id": "42b17326",
   "metadata": {},
   "outputs": [
    {
     "name": "stdout",
     "output_type": "stream",
     "text": [
      "💡 Spróbuj użyć funckji head().\n",
      "✓ Wynik poprawny!\n"
     ]
    }
   ],
   "source": [
    "ans.zad_1(first_ten, True)"
   ]
  },
  {
   "cell_type": "markdown",
   "id": "9c432841",
   "metadata": {},
   "source": [
    "### II.\n",
    "Teraz wyświetl **5** ostatnich rzędów `pokemon_df` i zapisz je w zmiennej `last_five`."
   ]
  },
  {
   "cell_type": "code",
   "execution_count": 5,
   "id": "895eb90f",
   "metadata": {},
   "outputs": [
    {
     "data": {
      "text/html": [
       "<div>\n",
       "<style scoped>\n",
       "    .dataframe tbody tr th:only-of-type {\n",
       "        vertical-align: middle;\n",
       "    }\n",
       "\n",
       "    .dataframe tbody tr th {\n",
       "        vertical-align: top;\n",
       "    }\n",
       "\n",
       "    .dataframe thead th {\n",
       "        text-align: right;\n",
       "    }\n",
       "</style>\n",
       "<table border=\"1\" class=\"dataframe\">\n",
       "  <thead>\n",
       "    <tr style=\"text-align: right;\">\n",
       "      <th></th>\n",
       "      <th>Name</th>\n",
       "      <th>Type 1</th>\n",
       "      <th>Type 2</th>\n",
       "      <th>Total</th>\n",
       "      <th>HP</th>\n",
       "      <th>Attack</th>\n",
       "      <th>Defense</th>\n",
       "      <th>Sp. Atk</th>\n",
       "      <th>Sp. Def</th>\n",
       "      <th>Speed</th>\n",
       "      <th>Generation</th>\n",
       "      <th>Legendary</th>\n",
       "    </tr>\n",
       "  </thead>\n",
       "  <tbody>\n",
       "    <tr>\n",
       "      <th>650</th>\n",
       "      <td>Noibat</td>\n",
       "      <td>Flying</td>\n",
       "      <td>Dragon</td>\n",
       "      <td>245</td>\n",
       "      <td>40</td>\n",
       "      <td>30</td>\n",
       "      <td>35</td>\n",
       "      <td>45</td>\n",
       "      <td>40</td>\n",
       "      <td>55</td>\n",
       "      <td>6</td>\n",
       "      <td>False</td>\n",
       "    </tr>\n",
       "    <tr>\n",
       "      <th>651</th>\n",
       "      <td>Noivern</td>\n",
       "      <td>Flying</td>\n",
       "      <td>Dragon</td>\n",
       "      <td>535</td>\n",
       "      <td>85</td>\n",
       "      <td>70</td>\n",
       "      <td>80</td>\n",
       "      <td>97</td>\n",
       "      <td>80</td>\n",
       "      <td>123</td>\n",
       "      <td>6</td>\n",
       "      <td>False</td>\n",
       "    </tr>\n",
       "    <tr>\n",
       "      <th>652</th>\n",
       "      <td>Xerneas</td>\n",
       "      <td>Fairy</td>\n",
       "      <td>NaN</td>\n",
       "      <td>680</td>\n",
       "      <td>126</td>\n",
       "      <td>131</td>\n",
       "      <td>95</td>\n",
       "      <td>131</td>\n",
       "      <td>98</td>\n",
       "      <td>99</td>\n",
       "      <td>6</td>\n",
       "      <td>True</td>\n",
       "    </tr>\n",
       "    <tr>\n",
       "      <th>653</th>\n",
       "      <td>Yveltal</td>\n",
       "      <td>Dark</td>\n",
       "      <td>Flying</td>\n",
       "      <td>680</td>\n",
       "      <td>126</td>\n",
       "      <td>131</td>\n",
       "      <td>95</td>\n",
       "      <td>131</td>\n",
       "      <td>98</td>\n",
       "      <td>99</td>\n",
       "      <td>6</td>\n",
       "      <td>True</td>\n",
       "    </tr>\n",
       "    <tr>\n",
       "      <th>654</th>\n",
       "      <td>Volcanion</td>\n",
       "      <td>Fire</td>\n",
       "      <td>Water</td>\n",
       "      <td>600</td>\n",
       "      <td>80</td>\n",
       "      <td>110</td>\n",
       "      <td>120</td>\n",
       "      <td>130</td>\n",
       "      <td>90</td>\n",
       "      <td>70</td>\n",
       "      <td>6</td>\n",
       "      <td>True</td>\n",
       "    </tr>\n",
       "  </tbody>\n",
       "</table>\n",
       "</div>"
      ],
      "text/plain": [
       "          Name  Type 1  Type 2  Total   HP  Attack  Defense  Sp. Atk  Sp. Def  \\\n",
       "650     Noibat  Flying  Dragon    245   40      30       35       45       40   \n",
       "651    Noivern  Flying  Dragon    535   85      70       80       97       80   \n",
       "652    Xerneas   Fairy     NaN    680  126     131       95      131       98   \n",
       "653    Yveltal    Dark  Flying    680  126     131       95      131       98   \n",
       "654  Volcanion    Fire   Water    600   80     110      120      130       90   \n",
       "\n",
       "     Speed  Generation  Legendary  \n",
       "650     55           6      False  \n",
       "651    123           6      False  \n",
       "652     99           6       True  \n",
       "653     99           6       True  \n",
       "654     70           6       True  "
      ]
     },
     "execution_count": 5,
     "metadata": {},
     "output_type": "execute_result"
    }
   ],
   "source": [
    "last_five = pokemon_df.tail()\n",
    "last_five"
   ]
  },
  {
   "cell_type": "code",
   "execution_count": null,
   "id": "654dfce5",
   "metadata": {},
   "outputs": [],
   "source": [
    "ans.zad_2(last_five, True)"
   ]
  },
  {
   "cell_type": "markdown",
   "id": "2634a48a",
   "metadata": {},
   "source": [
    "### III.\n",
    "Sprawdź, ile **wierszy** (rzędów) posiada `pokemon_df`, wyświetl tą liczbę i zapisz ją w zmiennej `rows_count`."
   ]
  },
  {
   "cell_type": "code",
   "execution_count": 7,
   "id": "8898c623",
   "metadata": {},
   "outputs": [
    {
     "data": {
      "text/plain": [
       "655"
      ]
     },
     "execution_count": 7,
     "metadata": {},
     "output_type": "execute_result"
    }
   ],
   "source": [
    "rows_count = pokemon_df.shape[0]\n",
    "rows_count"
   ]
  },
  {
   "cell_type": "code",
   "execution_count": null,
   "id": "ad6ed8df",
   "metadata": {},
   "outputs": [],
   "source": [
    "ans.zad_3(rows_count, True)"
   ]
  },
  {
   "cell_type": "markdown",
   "id": "9faa69dc",
   "metadata": {},
   "source": [
    "### IV.\n",
    "Teraz sprawdź liczbę **kolumn** w `pokemon_df`, wyświetl ją i zapisz w zmiennej `columns_count`."
   ]
  },
  {
   "cell_type": "code",
   "execution_count": 8,
   "id": "45855a1b",
   "metadata": {},
   "outputs": [
    {
     "data": {
      "text/plain": [
       "12"
      ]
     },
     "execution_count": 8,
     "metadata": {},
     "output_type": "execute_result"
    }
   ],
   "source": [
    "columns_count = pokemon_df.shape[1]\n",
    "columns_count"
   ]
  },
  {
   "cell_type": "code",
   "execution_count": null,
   "id": "cc9f4f14",
   "metadata": {},
   "outputs": [],
   "source": [
    "ans.zad_4(columns_count, True)"
   ]
  },
  {
   "cell_type": "markdown",
   "id": "4c3d9a39",
   "metadata": {},
   "source": [
    "### V.\n",
    "Wybierz kolumnę `Speed` w `pokemon_df`, zapisz ją w zmiennej `speed_col` i wyświetl wynik."
   ]
  },
  {
   "cell_type": "code",
   "execution_count": 9,
   "id": "69971e89",
   "metadata": {},
   "outputs": [
    {
     "data": {
      "text/plain": [
       "0       45\n",
       "1       60\n",
       "2       65\n",
       "3       80\n",
       "4       43\n",
       "      ... \n",
       "650     55\n",
       "651    123\n",
       "652     99\n",
       "653     99\n",
       "654     70\n",
       "Name: Speed, Length: 655, dtype: int64"
      ]
     },
     "execution_count": 9,
     "metadata": {},
     "output_type": "execute_result"
    }
   ],
   "source": [
    "speed_col = pokemon_df['Speed']\n",
    "speed_col"
   ]
  },
  {
   "cell_type": "code",
   "execution_count": null,
   "id": "191fd881",
   "metadata": {},
   "outputs": [],
   "source": [
    "ans.zad_5(speed_col, True)"
   ]
  },
  {
   "cell_type": "markdown",
   "id": "258d48a4",
   "metadata": {},
   "source": [
    "### VI.\n",
    "Wykorzystaj zmienną `speed_col` z poprzedniego zadania, znajdź jakiego **typu** jest ta zmienna i zapisz odpowiedż w nowej zmiennej `speed_dtype`."
   ]
  },
  {
   "cell_type": "markdown",
   "id": "80654130",
   "metadata": {},
   "source": [
    "***UWAGA***: Nie użwyaj funkcji `type()` z biblioteki standardowej Python, tylko wykorzystaj narzędzia bibliotek Pandas lub Numpy."
   ]
  },
  {
   "cell_type": "code",
   "execution_count": 14,
   "id": "1a2b68e8",
   "metadata": {},
   "outputs": [
    {
     "data": {
      "text/plain": [
       "dtype('int64')"
      ]
     },
     "execution_count": 14,
     "metadata": {},
     "output_type": "execute_result"
    }
   ],
   "source": [
    "speed_dtype = speed_col.dtype\n",
    "speed_dtype"
   ]
  },
  {
   "cell_type": "code",
   "execution_count": null,
   "id": "319bb72f",
   "metadata": {},
   "outputs": [],
   "source": [
    "name = speed_dtype.name\n",
    "ans.zad_6(name, True)"
   ]
  },
  {
   "cell_type": "markdown",
   "id": "1a6802f0",
   "metadata": {},
   "source": [
    "### VII. (UPEL - Zadanie 1)\n",
    "Ile kolumn w `pokemon_df` posiada typ `object`? Wykorzystaj dostępne narzędzia i funkcje, a w razie potrzeby skorzystaj z internetu żeby znaleźć odpowiedź. W UPEL w zakładce `Zadanie 1` prześlij **liczbę kolumn**, które posiadają wspomniany wcześniej typ danych."
   ]
  },
  {
   "cell_type": "code",
   "execution_count": 18,
   "id": "d9efac6b",
   "metadata": {},
   "outputs": [
    {
     "data": {
      "text/plain": [
       "3"
      ]
     },
     "execution_count": 18,
     "metadata": {},
     "output_type": "execute_result"
    }
   ],
   "source": [
    "(pokemon_df.dtypes == 'object').sum()"
   ]
  },
  {
   "cell_type": "markdown",
   "id": "b4fa1c25",
   "metadata": {},
   "source": [
    "### VIII.\n",
    "Znajdź, jaka jest maksymalna wartość w kolumnie `HP` w `pokemon_df`. Zapisz ją w zmiennej `max_hp` i wyświetl."
   ]
  },
  {
   "cell_type": "code",
   "execution_count": 24,
   "id": "d5601366",
   "metadata": {},
   "outputs": [
    {
     "data": {
      "text/plain": [
       "255"
      ]
     },
     "execution_count": 24,
     "metadata": {},
     "output_type": "execute_result"
    }
   ],
   "source": [
    "max_hp = pokemon_df['HP'].max()\n",
    "max_hp"
   ]
  },
  {
   "cell_type": "code",
   "execution_count": null,
   "id": "448a7abd",
   "metadata": {},
   "outputs": [],
   "source": [
    "ans.zad_8(max_hp, True)"
   ]
  },
  {
   "cell_type": "markdown",
   "id": "bc7333de",
   "metadata": {},
   "source": [
    "### IX.\n",
    "Wyświetl rekord (wiersz) z `pokemon_df` odpowiadający pokemonowi, który posiada największą wartość `HP`, a także zapisz ten rekord w zmiennej `max_hp_pokemon`. Wykorzystaj wynik z poprzedniego zadania."
   ]
  },
  {
   "cell_type": "code",
   "execution_count": 28,
   "id": "1581827f",
   "metadata": {},
   "outputs": [
    {
     "data": {
      "text/html": [
       "<div>\n",
       "<style scoped>\n",
       "    .dataframe tbody tr th:only-of-type {\n",
       "        vertical-align: middle;\n",
       "    }\n",
       "\n",
       "    .dataframe tbody tr th {\n",
       "        vertical-align: top;\n",
       "    }\n",
       "\n",
       "    .dataframe thead th {\n",
       "        text-align: right;\n",
       "    }\n",
       "</style>\n",
       "<table border=\"1\" class=\"dataframe\">\n",
       "  <thead>\n",
       "    <tr style=\"text-align: right;\">\n",
       "      <th></th>\n",
       "      <th>Name</th>\n",
       "      <th>Type 1</th>\n",
       "      <th>Type 2</th>\n",
       "      <th>Total</th>\n",
       "      <th>HP</th>\n",
       "      <th>Attack</th>\n",
       "      <th>Defense</th>\n",
       "      <th>Sp. Atk</th>\n",
       "      <th>Sp. Def</th>\n",
       "      <th>Speed</th>\n",
       "      <th>Generation</th>\n",
       "      <th>Legendary</th>\n",
       "    </tr>\n",
       "  </thead>\n",
       "  <tbody>\n",
       "    <tr>\n",
       "      <th>222</th>\n",
       "      <td>Blissey</td>\n",
       "      <td>Normal</td>\n",
       "      <td>NaN</td>\n",
       "      <td>540</td>\n",
       "      <td>255</td>\n",
       "      <td>10</td>\n",
       "      <td>10</td>\n",
       "      <td>75</td>\n",
       "      <td>135</td>\n",
       "      <td>55</td>\n",
       "      <td>2</td>\n",
       "      <td>False</td>\n",
       "    </tr>\n",
       "  </tbody>\n",
       "</table>\n",
       "</div>"
      ],
      "text/plain": [
       "        Name  Type 1 Type 2  Total   HP  Attack  Defense  Sp. Atk  Sp. Def  \\\n",
       "222  Blissey  Normal    NaN    540  255      10       10       75      135   \n",
       "\n",
       "     Speed  Generation  Legendary  \n",
       "222     55           2      False  "
      ]
     },
     "execution_count": 28,
     "metadata": {},
     "output_type": "execute_result"
    }
   ],
   "source": [
    "max_hp_pokemon = pokemon_df[pokemon_df['HP'] == max_hp]\n",
    "max_hp_pokemon"
   ]
  },
  {
   "cell_type": "code",
   "execution_count": null,
   "id": "6a80bfd1",
   "metadata": {},
   "outputs": [],
   "source": [
    "ans.zad_9(max_hp_pokemon, True)"
   ]
  },
  {
   "cell_type": "markdown",
   "id": "f40669f1",
   "metadata": {},
   "source": [
    "### X."
   ]
  },
  {
   "cell_type": "code",
   "execution_count": null,
   "id": "63ef66cd",
   "metadata": {},
   "outputs": [],
   "source": []
  }
 ],
 "metadata": {
  "kernelspec": {
   "display_name": "Python 3 (ipykernel)",
   "language": "python",
   "name": "python3"
  },
  "language_info": {
   "codemirror_mode": {
    "name": "ipython",
    "version": 3
   },
   "file_extension": ".py",
   "mimetype": "text/x-python",
   "name": "python",
   "nbconvert_exporter": "python",
   "pygments_lexer": "ipython3",
   "version": "3.10.13"
  }
 },
 "nbformat": 4,
 "nbformat_minor": 5
}
